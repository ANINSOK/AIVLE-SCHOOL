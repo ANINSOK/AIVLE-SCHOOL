{
 "cells": [
  {
   "cell_type": "code",
   "execution_count": null,
   "metadata": {},
   "outputs": [],
   "source": [
    "# 클래스 : class\n",
    "# 변수, 함수를 묶어서 코드 작성 실행 문법 \n",
    "# 객체지향 구현 : 실제세계를 모델링하여 프로그램을 개발하는 개발 방법론 : 협업향상 \n",
    "# 사용법 # 클래스선언(코드작성) > 객체생성(메모리사용) > 메서드호출(코드실행) # 클래스선언(설계도작성) > 객체생성(제품생산) > 메서드호출(제품사용) \n",
    "# class, self, __init__(), 클래스는 사용자정의 데이터타입이다. \n",
    "# 클래스 식별자 컨벤션 : snake_case(X), PascalCase(O), UpperCamelCase(O) : PEP8"
   ]
  },
  {
   "cell_type": "code",
   "execution_count": 2,
   "metadata": {},
   "outputs": [],
   "source": [
    "# 클래스선언 : 코드작성 \n",
    "# # 은행계좌 : Account : balance, deposit(), withdraw()\n",
    "class Account: \n",
    "    balance = 10000\n",
    "    def deposit(self, amount): \n",
    "        self.balance += amount \n",
    "    def withdraw(self, amount): \n",
    "        self.balance -= amount"
   ]
  },
  {
   "cell_type": "code",
   "execution_count": 3,
   "metadata": {},
   "outputs": [],
   "source": [
    "# 객체생성 : 메모리 사용\n",
    "acc1 = Account()\n",
    "acc2 = Account()"
   ]
  },
  {
   "cell_type": "code",
   "execution_count": 8,
   "metadata": {},
   "outputs": [
    {
     "data": {
      "text/plain": [
       "['balance', 'deposit', 'withdraw']"
      ]
     },
     "execution_count": 8,
     "metadata": {},
     "output_type": "execute_result"
    }
   ],
   "source": [
    "# dir() : 객체의 변수, 함수 출력\n",
    "dir(acc1)[-3:]"
   ]
  },
  {
   "cell_type": "code",
   "execution_count": 9,
   "metadata": {},
   "outputs": [
    {
     "data": {
      "text/plain": [
       "(10000, 10000)"
      ]
     },
     "execution_count": 9,
     "metadata": {},
     "output_type": "execute_result"
    }
   ],
   "source": [
    "acc1.balance, acc2.balance"
   ]
  },
  {
   "cell_type": "code",
   "execution_count": 10,
   "metadata": {},
   "outputs": [
    {
     "data": {
      "text/plain": [
       "(20000, 10000)"
      ]
     },
     "execution_count": 10,
     "metadata": {},
     "output_type": "execute_result"
    }
   ],
   "source": [
    "# 데이터 수정 : 데이터 선택 = 수정할 데이터\n",
    "acc1.balance = 20000\n",
    "acc1.balance, acc2.balance"
   ]
  },
  {
   "cell_type": "code",
   "execution_count": 11,
   "metadata": {},
   "outputs": [
    {
     "data": {
      "text/plain": [
       "(23000, 8000)"
      ]
     },
     "execution_count": 11,
     "metadata": {},
     "output_type": "execute_result"
    }
   ],
   "source": [
    "acc1.deposit(3000)\n",
    "acc2.withdraw(2000)\n",
    "acc1.balance, acc2.balance"
   ]
  },
  {
   "cell_type": "code",
   "execution_count": null,
   "metadata": {},
   "outputs": [],
   "source": [
    "# 클래스로 객체 생성 -> 파스칼 케이스 대문지\n",
    "# 함수 호출 -> 소문자"
   ]
  },
  {
   "cell_type": "code",
   "execution_count": 13,
   "metadata": {},
   "outputs": [],
   "source": [
    "# self : 객체자신 \n",
    "# Account.deposit(amount) : self.balance += amount \n",
    "# acc1.deposit(3000) : self == acc1 : acc1.balance += 3000 \n",
    "# acc2.withdraw(4000) : self == acc2 : acc2.balance -= 4000"
   ]
  },
  {
   "cell_type": "code",
   "execution_count": 1,
   "metadata": {},
   "outputs": [],
   "source": [
    "# 클래스생성 : 코드작성 \n",
    "class Account: \n",
    "    # 클래스는 사용자정의 데이터타입이다. \n",
    "    # # 데이터타입이 다르면 사용할수 있는 변수, 함수가 다르다.\n",
    "    def __init__(self, balance): \n",
    "        self.balance = balance\n",
    "    def deposit(self, amount): \n",
    "        self.balance += amount \n",
    "    def withdraw(self, amount): \n",
    "        self.balance -= amount"
   ]
  },
  {
   "cell_type": "code",
   "execution_count": 2,
   "metadata": {},
   "outputs": [
    {
     "data": {
      "text/plain": [
       "<__main__.Account at 0x278ca511c90>"
      ]
     },
     "execution_count": 2,
     "metadata": {},
     "output_type": "execute_result"
    }
   ],
   "source": [
    "# 객체 생성 : 메모리 사용\n",
    "acc = Account(5000)\n",
    "acc"
   ]
  },
  {
   "cell_type": "code",
   "execution_count": 3,
   "metadata": {},
   "outputs": [
    {
     "data": {
      "text/plain": [
       "6000"
      ]
     },
     "execution_count": 3,
     "metadata": {},
     "output_type": "execute_result"
    }
   ],
   "source": [
    "acc.deposit(1000)\n",
    "acc.balance"
   ]
  },
  {
   "cell_type": "code",
   "execution_count": 4,
   "metadata": {},
   "outputs": [
    {
     "data": {
      "text/plain": [
       "11000"
      ]
     },
     "execution_count": 4,
     "metadata": {},
     "output_type": "execute_result"
    }
   ],
   "source": [
    "acc2 = Account(10000)\n",
    "acc2.deposit(1000)\n",
    "acc2.balance"
   ]
  },
  {
   "cell_type": "code",
   "execution_count": 5,
   "metadata": {},
   "outputs": [],
   "source": [
    "# 클래스는 사용자정의 데이터타입이다.\n",
    "# 데이터타입이 다르면 사용할수 있는 변수, 함수가 다르다."
   ]
  },
  {
   "cell_type": "code",
   "execution_count": 8,
   "metadata": {},
   "outputs": [
    {
     "data": {
      "text/plain": [
       "__main__.Account"
      ]
     },
     "execution_count": 8,
     "metadata": {},
     "output_type": "execute_result"
    }
   ],
   "source": [
    "# acc 객체의 클래스 : Account \n",
    "# acc 객체의 데이터타입 : Account \n",
    "# 클래스는 데이터타입이다. \n",
    "# Account 클래스(데이터타입)은 우리가 직접 만듦 : 사용자정의 \n",
    "# 클래스는 사용자정의 데이터타입이다. \n",
    "acc = Account(5)\n",
    "type(acc)\n"
   ]
  },
  {
   "cell_type": "code",
   "execution_count": 10,
   "metadata": {},
   "outputs": [
    {
     "data": {
      "text/plain": [
       "(str, ['translate', 'upper', 'zfill'])"
      ]
     },
     "execution_count": 10,
     "metadata": {},
     "output_type": "execute_result"
    }
   ],
   "source": [
    "# data 객체의 클래스 : str \n",
    "# data 객체의 데이터타입 : str \n",
    "# data 객체에서 사용가능한 변수, 함수는 str 클래스에서 정의\n",
    "data = 'python' \n",
    "type(data), dir(data)[-3:]"
   ]
  },
  {
   "cell_type": "code",
   "execution_count": 12,
   "metadata": {},
   "outputs": [
    {
     "data": {
      "text/plain": [
       "(str, list)"
      ]
     },
     "execution_count": 12,
     "metadata": {},
     "output_type": "execute_result"
    }
   ],
   "source": [
    "# 데이터타입이 다르면 사용할수 있는 변수, 함수가 다르다. \n",
    "d1, d2 = 'python', [1, 3, 2] \n",
    "type(d1), type(d2)"
   ]
  },
  {
   "cell_type": "code",
   "execution_count": 14,
   "metadata": {},
   "outputs": [
    {
     "data": {
      "text/plain": [
       "(['translate', 'upper', 'zfill'], ['remove', 'reverse', 'sort'])"
      ]
     },
     "execution_count": 14,
     "metadata": {},
     "output_type": "execute_result"
    }
   ],
   "source": [
    "dir(d1)[-3:], dir(d2)[-3:]"
   ]
  },
  {
   "cell_type": "code",
   "execution_count": 17,
   "metadata": {},
   "outputs": [
    {
     "data": {
      "text/plain": [
       "[1, 2, 3]"
      ]
     },
     "execution_count": 17,
     "metadata": {},
     "output_type": "execute_result"
    }
   ],
   "source": [
    "d2.sort()\n",
    "d2"
   ]
  },
  {
   "cell_type": "code",
   "execution_count": null,
   "metadata": {},
   "outputs": [],
   "source": []
  }
 ],
 "metadata": {
  "kernelspec": {
   "display_name": "base",
   "language": "python",
   "name": "python3"
  },
  "language_info": {
   "codemirror_mode": {
    "name": "ipython",
    "version": 3
   },
   "file_extension": ".py",
   "mimetype": "text/x-python",
   "name": "python",
   "nbconvert_exporter": "python",
   "pygments_lexer": "ipython3",
   "version": "3.11.3"
  },
  "orig_nbformat": 4
 },
 "nbformat": 4,
 "nbformat_minor": 2
}
