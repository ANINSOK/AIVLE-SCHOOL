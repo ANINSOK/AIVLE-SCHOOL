{
 "cells": [
  {
   "cell_type": "markdown",
   "id": "democratic-utility",
   "metadata": {},
   "source": [
    "### Zigbang 원룸 매물 데이터 수집\n"
   ]
  },
  {
   "cell_type": "code",
   "execution_count": 46,
   "id": "9affefe3",
   "metadata": {},
   "outputs": [],
   "source": [
    "import warnings\n",
    "warnings.filterwarnings('ignore')\n",
    "import pandas as pd\n",
    "import requests, json\n",
    "pd.options.display.max_columns = 40"
   ]
  },
  {
   "cell_type": "markdown",
   "id": "whole-answer",
   "metadata": {},
   "source": [
    "#### Process\n",
    "\n",
    "    - 동이름으로 위도 경도 구하기\n",
    "    - 위도 경도로 geohash 알아내기\n",
    "    - geohash로 매물 아이디 가져오기\n",
    "    - 매물 아이디로 매물 정보 가져오기\n"
   ]
  },
  {
   "cell_type": "markdown",
   "id": "b98f0c6c",
   "metadata": {},
   "source": [
    "#### 1. 동이름으로 위도 경도 구하기\n"
   ]
  },
  {
   "cell_type": "code",
   "execution_count": 109,
   "id": "4e8d14a3",
   "metadata": {},
   "outputs": [
    {
     "data": {
      "text/plain": [
       "(37.52959077840698, 126.89981785641798)"
      ]
     },
     "execution_count": 109,
     "metadata": {},
     "output_type": "execute_result"
    }
   ],
   "source": [
    "# 1. 웹페이지분석 : 개발자도구 : URL\n",
    "addr = '회현동'\n",
    "url = f'https://apis.zigbang.com/v2/search?leaseYn=N&q={addr}&serviceType=원룸'\n",
    "\n",
    "# 2. Request(URL) >Response\n",
    "response = requests.get(url)\n",
    "response\n",
    "\n",
    "# 3. JSON > data[위도, 경도]\n",
    "data = response.json()[\"items\"][0]\n",
    "lat, lng = data[\"lat\"], data[\"lng\"]\n",
    "lat, lng"
   ]
  },
  {
   "cell_type": "markdown",
   "id": "8dfada31",
   "metadata": {},
   "source": [
    "#### 2. 위도 경도로 geohash 알아내기\n",
    "\n",
    "- install geohash2 package\n"
   ]
  },
  {
   "cell_type": "code",
   "execution_count": 110,
   "id": "1d270ab4",
   "metadata": {},
   "outputs": [],
   "source": [
    "import geohash2"
   ]
  },
  {
   "cell_type": "code",
   "execution_count": 111,
   "id": "32a97c5a",
   "metadata": {},
   "outputs": [
    {
     "data": {
      "text/plain": [
       "'wydjx'"
      ]
     },
     "execution_count": 111,
     "metadata": {},
     "output_type": "execute_result"
    }
   ],
   "source": [
    "# precision : 영역크기 : 커질수록 영역이 작아짐\n",
    "geohash = geohash2.encode(lat, lng, precision=5)\n",
    "geohash"
   ]
  },
  {
   "cell_type": "markdown",
   "id": "13e8b3f9",
   "metadata": {},
   "source": [
    "#### 3. geohash로 매물 아이디 가져오기\n"
   ]
  },
  {
   "cell_type": "code",
   "execution_count": 112,
   "id": "2ceb8ea4",
   "metadata": {},
   "outputs": [
    {
     "data": {
      "text/plain": [
       "<Response [200]>"
      ]
     },
     "execution_count": 112,
     "metadata": {},
     "output_type": "execute_result"
    }
   ],
   "source": [
    "url = 'https://apis.zigbang.com/v2/items?deposit_gteq=0&domain=zigbang&geohash=wydjx&needHasNoFiltered=true&rent_gteq=0&sales_type_in=전세|월세&service_type_eq=원룸'\n",
    "    \n",
    "response = requests.get(url)\n",
    "response"
   ]
  },
  {
   "cell_type": "code",
   "execution_count": 114,
   "id": "0bc70535",
   "metadata": {},
   "outputs": [
    {
     "data": {
      "text/plain": [
       "(580, [37623131, 37685329, 37699264, 37828417, 37595863])"
      ]
     },
     "execution_count": 114,
     "metadata": {},
     "output_type": "execute_result"
    }
   ],
   "source": [
    "items = response.json()['items']\n",
    "ids = []\n",
    "for item in items:\n",
    "    ids.append(item['item_id'])\n",
    "len(ids), ids[:5]"
   ]
  },
  {
   "cell_type": "code",
   "execution_count": 115,
   "id": "c5e72110",
   "metadata": {},
   "outputs": [
    {
     "data": {
      "text/plain": [
       "[37623131, 37685329, 37699264, 37828417, 37595863]"
      ]
     },
     "execution_count": 115,
     "metadata": {},
     "output_type": "execute_result"
    }
   ],
   "source": [
    "# listcomprehension : 간단한 for, if를 사용해서 리스트 데이터 만들때 사용되는 문법\n",
    "# [var for var in collection if condition]\n",
    "ids = [item['item_id'] for item in items]\n",
    "ids[:5]"
   ]
  },
  {
   "cell_type": "markdown",
   "id": "85225aae",
   "metadata": {},
   "source": [
    "#### 4. 매물 아이디로 매물 정보 가져오기\n"
   ]
  },
  {
   "cell_type": "code",
   "execution_count": 116,
   "id": "0212d892",
   "metadata": {},
   "outputs": [],
   "source": [
    "# 요청 id가 1000를 초과하면 에러 발생\n",
    "url = 'https://apis.zigbang.com/v2/items/list'\n",
    "params = {\n",
    "    'domain' : 'zigbang', 'item_ids' : ids\n",
    "}\n",
    "response = requests.post(url, params)"
   ]
  },
  {
   "cell_type": "code",
   "execution_count": 117,
   "id": "0700afe8",
   "metadata": {},
   "outputs": [
    {
     "data": {
      "text/html": [
       "<div>\n",
       "<style scoped>\n",
       "    .dataframe tbody tr th:only-of-type {\n",
       "        vertical-align: middle;\n",
       "    }\n",
       "\n",
       "    .dataframe tbody tr th {\n",
       "        vertical-align: top;\n",
       "    }\n",
       "\n",
       "    .dataframe thead th {\n",
       "        text-align: right;\n",
       "    }\n",
       "</style>\n",
       "<table border=\"1\" class=\"dataframe\">\n",
       "  <thead>\n",
       "    <tr style=\"text-align: right;\">\n",
       "      <th></th>\n",
       "      <th>item_id</th>\n",
       "      <th>sales_type</th>\n",
       "      <th>deposit</th>\n",
       "      <th>floor</th>\n",
       "      <th>floor_string</th>\n",
       "      <th>building_floor</th>\n",
       "      <th>title</th>\n",
       "      <th>manage_cost</th>\n",
       "      <th>service_type</th>\n",
       "      <th>size_m2</th>\n",
       "      <th>address1</th>\n",
       "    </tr>\n",
       "  </thead>\n",
       "  <tbody>\n",
       "    <tr>\n",
       "      <th>578</th>\n",
       "      <td>37703323</td>\n",
       "      <td>월세</td>\n",
       "      <td>5000</td>\n",
       "      <td>3</td>\n",
       "      <td>3</td>\n",
       "      <td>6</td>\n",
       "      <td>전입o 가좌역 도보5분 살기좋은 신축쓰리룸</td>\n",
       "      <td>8</td>\n",
       "      <td>빌라</td>\n",
       "      <td>63.97</td>\n",
       "      <td>서울시 마포구 중동</td>\n",
       "    </tr>\n",
       "    <tr>\n",
       "      <th>579</th>\n",
       "      <td>37836529</td>\n",
       "      <td>월세</td>\n",
       "      <td>5000</td>\n",
       "      <td>고</td>\n",
       "      <td>고</td>\n",
       "      <td>6</td>\n",
       "      <td>가좌역 역세권 신축  첫입주 투룸  반전세주차O</td>\n",
       "      <td>8</td>\n",
       "      <td>오피스텔</td>\n",
       "      <td>61.09</td>\n",
       "      <td>서울시 마포구 중동</td>\n",
       "    </tr>\n",
       "  </tbody>\n",
       "</table>\n",
       "</div>"
      ],
      "text/plain": [
       "      item_id sales_type  deposit floor floor_string building_floor  \\\n",
       "578  37703323         월세     5000     3            3              6   \n",
       "579  37836529         월세     5000     고            고              6   \n",
       "\n",
       "                          title manage_cost service_type  size_m2    address1  \n",
       "578     전입o 가좌역 도보5분 살기좋은 신축쓰리룸           8           빌라    63.97  서울시 마포구 중동  \n",
       "579  가좌역 역세권 신축  첫입주 투룸  반전세주차O           8         오피스텔    61.09  서울시 마포구 중동  "
      ]
     },
     "execution_count": 117,
     "metadata": {},
     "output_type": "execute_result"
    }
   ],
   "source": [
    "data = response.json()['items']\n",
    "df = pd.DataFrame(data)\n",
    "\n",
    "\n",
    "columns = ['item_id','sales_type','deposit','floor', 'floor_string', 'building_floor', 'title','manage_cost','service_type','size_m2','address1']\n",
    "\n",
    "df = df[columns]\n",
    "df.tail(2)"
   ]
  },
  {
   "cell_type": "code",
   "execution_count": 118,
   "id": "fc9fa4af",
   "metadata": {},
   "outputs": [
    {
     "data": {
      "text/html": [
       "<div>\n",
       "<style scoped>\n",
       "    .dataframe tbody tr th:only-of-type {\n",
       "        vertical-align: middle;\n",
       "    }\n",
       "\n",
       "    .dataframe tbody tr th {\n",
       "        vertical-align: top;\n",
       "    }\n",
       "\n",
       "    .dataframe thead th {\n",
       "        text-align: right;\n",
       "    }\n",
       "</style>\n",
       "<table border=\"1\" class=\"dataframe\">\n",
       "  <thead>\n",
       "    <tr style=\"text-align: right;\">\n",
       "      <th></th>\n",
       "      <th>item_id</th>\n",
       "      <th>sales_type</th>\n",
       "      <th>deposit</th>\n",
       "      <th>floor</th>\n",
       "      <th>floor_string</th>\n",
       "      <th>building_floor</th>\n",
       "      <th>title</th>\n",
       "      <th>manage_cost</th>\n",
       "      <th>service_type</th>\n",
       "      <th>size_m2</th>\n",
       "      <th>address1</th>\n",
       "    </tr>\n",
       "  </thead>\n",
       "  <tbody>\n",
       "    <tr>\n",
       "      <th>501</th>\n",
       "      <td>37804362</td>\n",
       "      <td>월세</td>\n",
       "      <td>300</td>\n",
       "      <td>2</td>\n",
       "      <td>2</td>\n",
       "      <td>3</td>\n",
       "      <td>신축급즉시입주깔끔원룸 주차가능</td>\n",
       "      <td>7</td>\n",
       "      <td>원룸</td>\n",
       "      <td>19.83</td>\n",
       "      <td>서울시 마포구 망원동</td>\n",
       "    </tr>\n",
       "    <tr>\n",
       "      <th>502</th>\n",
       "      <td>37811722</td>\n",
       "      <td>월세</td>\n",
       "      <td>2000</td>\n",
       "      <td>1</td>\n",
       "      <td>1</td>\n",
       "      <td>3</td>\n",
       "      <td>리모델링후 첫입주 쓰리룸월세 풀옵션</td>\n",
       "      <td>1</td>\n",
       "      <td>빌라</td>\n",
       "      <td>48.00</td>\n",
       "      <td>서울시 마포구 망원동</td>\n",
       "    </tr>\n",
       "  </tbody>\n",
       "</table>\n",
       "</div>"
      ],
      "text/plain": [
       "      item_id sales_type  deposit floor floor_string building_floor  \\\n",
       "501  37804362         월세      300     2            2              3   \n",
       "502  37811722         월세     2000     1            1              3   \n",
       "\n",
       "                   title manage_cost service_type  size_m2     address1  \n",
       "501     신축급즉시입주깔끔원룸 주차가능           7           원룸    19.83  서울시 마포구 망원동  \n",
       "502  리모델링후 첫입주 쓰리룸월세 풀옵션           1           빌라    48.00  서울시 마포구 망원동  "
      ]
     },
     "execution_count": 118,
     "metadata": {},
     "output_type": "execute_result"
    }
   ],
   "source": [
    "망원_df = df[df['address1'].str.contains('망원동')]\n",
    "망원_df.tail(2)"
   ]
  },
  {
   "cell_type": "code",
   "execution_count": 123,
   "id": "ba72b670",
   "metadata": {},
   "outputs": [],
   "source": [
    "def oneroom(addr):\n",
    "    url = f'https://apis.zigbang.com/v2/search?leaseYn=N&q={addr}&serviceType=원룸'\n",
    "    response = requests.get(url)\n",
    "    data = response.json()[\"items\"][0]\n",
    "    lat, lng = data[\"lat\"], data[\"lng\"]\n",
    "    geohash = geohash2.encode(lat, lng, precision=5)\n",
    "    \n",
    "    url = 'https://apis.zigbang.com/v2/items?deposit_gteq=0&domain=zigbang&geohash=wydjx&needHasNoFiltered=true&rent_gteq=0&sales_type_in=전세|월세&service_type_eq=원룸'\n",
    "    response = requests.get(url)\n",
    "    items = response.json()['items']\n",
    "    ids = [item['item_id'] for item in items]\n",
    "    \n",
    "    url = 'https://apis.zigbang.com/v2/items/list'\n",
    "    params = {'domain' : 'zigbang', 'item_ids' : ids}\n",
    "    response = requests.post(url, params)\n",
    "    data = response.json()['items']\n",
    "    df = pd.DataFrame(data)\n",
    "    result = df[df['address1'].str.contains(addr)].reset_index(drop=True)\n",
    "    \n",
    "    return result[['item_id','sales_type','deposit','floor', 'floor_string', 'building_floor', 'title','manage_cost','service_type','size_m2','address1']]\n"
   ]
  },
  {
   "cell_type": "code",
   "execution_count": 127,
   "id": "666d747d",
   "metadata": {},
   "outputs": [
    {
     "data": {
      "text/html": [
       "<div>\n",
       "<style scoped>\n",
       "    .dataframe tbody tr th:only-of-type {\n",
       "        vertical-align: middle;\n",
       "    }\n",
       "\n",
       "    .dataframe tbody tr th {\n",
       "        vertical-align: top;\n",
       "    }\n",
       "\n",
       "    .dataframe thead th {\n",
       "        text-align: right;\n",
       "    }\n",
       "</style>\n",
       "<table border=\"1\" class=\"dataframe\">\n",
       "  <thead>\n",
       "    <tr style=\"text-align: right;\">\n",
       "      <th></th>\n",
       "      <th>item_id</th>\n",
       "      <th>sales_type</th>\n",
       "      <th>deposit</th>\n",
       "      <th>floor</th>\n",
       "      <th>floor_string</th>\n",
       "      <th>building_floor</th>\n",
       "      <th>title</th>\n",
       "      <th>manage_cost</th>\n",
       "      <th>service_type</th>\n",
       "      <th>size_m2</th>\n",
       "      <th>address1</th>\n",
       "    </tr>\n",
       "  </thead>\n",
       "  <tbody>\n",
       "    <tr>\n",
       "      <th>0</th>\n",
       "      <td>37751115</td>\n",
       "      <td>월세</td>\n",
       "      <td>2000</td>\n",
       "      <td>1</td>\n",
       "      <td>1</td>\n",
       "      <td>2</td>\n",
       "      <td>올리모델링 가좌역5분 역세권 귀한 투룸ㅣ빠른입주OK</td>\n",
       "      <td>0</td>\n",
       "      <td>빌라</td>\n",
       "      <td>37.98</td>\n",
       "      <td>서울시 마포구 중동</td>\n",
       "    </tr>\n",
       "    <tr>\n",
       "      <th>1</th>\n",
       "      <td>37703323</td>\n",
       "      <td>월세</td>\n",
       "      <td>5000</td>\n",
       "      <td>3</td>\n",
       "      <td>3</td>\n",
       "      <td>6</td>\n",
       "      <td>전입o 가좌역 도보5분 살기좋은 신축쓰리룸</td>\n",
       "      <td>8</td>\n",
       "      <td>빌라</td>\n",
       "      <td>63.97</td>\n",
       "      <td>서울시 마포구 중동</td>\n",
       "    </tr>\n",
       "    <tr>\n",
       "      <th>2</th>\n",
       "      <td>37836529</td>\n",
       "      <td>월세</td>\n",
       "      <td>5000</td>\n",
       "      <td>고</td>\n",
       "      <td>고</td>\n",
       "      <td>6</td>\n",
       "      <td>가좌역 역세권 신축  첫입주 투룸  반전세주차O</td>\n",
       "      <td>8</td>\n",
       "      <td>오피스텔</td>\n",
       "      <td>61.09</td>\n",
       "      <td>서울시 마포구 중동</td>\n",
       "    </tr>\n",
       "  </tbody>\n",
       "</table>\n",
       "</div>"
      ],
      "text/plain": [
       "    item_id sales_type  deposit floor floor_string building_floor  \\\n",
       "0  37751115         월세     2000     1            1              2   \n",
       "1  37703323         월세     5000     3            3              6   \n",
       "2  37836529         월세     5000     고            고              6   \n",
       "\n",
       "                          title manage_cost service_type  size_m2    address1  \n",
       "0  올리모델링 가좌역5분 역세권 귀한 투룸ㅣ빠른입주OK           0           빌라    37.98  서울시 마포구 중동  \n",
       "1       전입o 가좌역 도보5분 살기좋은 신축쓰리룸           8           빌라    63.97  서울시 마포구 중동  \n",
       "2    가좌역 역세권 신축  첫입주 투룸  반전세주차O           8         오피스텔    61.09  서울시 마포구 중동  "
      ]
     },
     "execution_count": 127,
     "metadata": {},
     "output_type": "execute_result"
    }
   ],
   "source": [
    "res = oneroom('중동')\n",
    "res"
   ]
  },
  {
   "cell_type": "code",
   "execution_count": 73,
   "id": "c5a940a6",
   "metadata": {},
   "outputs": [],
   "source": [
    "# 모듈 파일 만들기 : 변수, 함수, 클리스를 하나의 파일(.py)로 묶어서 코드 작성 실행 문법"
   ]
  },
  {
   "cell_type": "code",
   "execution_count": 83,
   "id": "9f01825e",
   "metadata": {},
   "outputs": [],
   "source": [
    "def oneroom(addr):\n",
    "    # url = f'https://apis.zigbang.com/v2/search?leaseYn=N&q={a/ddr}&serviceType=원룸'\n",
    "    url = f'https://apis.zigbang.com/v2/items?deposit_gteq=0&domain=zigbang&geohash=wydm8&needHasNoFiltered=true&rent_gteq=0&sales_type_in=전세|월세&service_type_eq=원룸q={addr}'\n",
    "    \n",
    "    response = requests.get(url)\n",
    "    data = response.json()[\"items\"][0]\n",
    "    lat, lng = data[\"lat\"], data[\"lng\"]\n",
    "    geohash = geohash2.encode(lat, lng, precision=5)\n",
    "    \n",
    "    url = 'https://apis.zigbang.com/v2/items?deposit_gteq=0&domain=zigbang&geohash=wydjx&needHasNoFiltered=true\\\n",
    "        &rent_gteq=0&sales_type_in=전세|월세&service_type_eq=원룸'\n",
    "    response = requests.get(url)\n",
    "    items = response.json()['items']\n",
    "    ids = [item['item_id'] for item in items]\n",
    "    \n",
    "    url = 'https://apis.zigbang.com/v2/items/list'\n",
    "    params = {'domain' : 'zigbang', 'item_ids' : ids}\n",
    "    response = requests.post(url, params)\n",
    "    data = response.json()['items']\n",
    "    df = pd.DataFrame(data)\n",
    "    result = df[df['address1'].str.contains(addr)].reset_index(drop=True)\n",
    "    \n",
    "    return result[['item_id','sales_type','deposit','floor', 'floor_string', 'building_floor', 'title','manage_cost','service_type','size_m2','address1']]\n"
   ]
  },
  {
   "cell_type": "code",
   "execution_count": 82,
   "id": "6d4e62c6",
   "metadata": {},
   "outputs": [],
   "source": [
    "import zigbang as zb"
   ]
  },
  {
   "cell_type": "code",
   "execution_count": 80,
   "id": "3a88483c",
   "metadata": {},
   "outputs": [
    {
     "ename": "KeyError",
     "evalue": "'items'",
     "output_type": "error",
     "traceback": [
      "\u001b[1;31m---------------------------------------------------------------------------\u001b[0m",
      "\u001b[1;31mKeyError\u001b[0m                                  Traceback (most recent call last)",
      "Cell \u001b[1;32mIn[80], line 1\u001b[0m\n\u001b[1;32m----> 1\u001b[0m df \u001b[39m=\u001b[39m zb\u001b[39m.\u001b[39moneroom(\u001b[39m'\u001b[39m\u001b[39m망원동\u001b[39m\u001b[39m'\u001b[39m)\n",
      "File \u001b[1;32mc:\\Users\\user\\Desktop\\KT AIVLE 4기\\04. 웹 크롤링\\1일차\\notebooks_code-20230824T005538Z-001\\zigbang.py:12\u001b[0m, in \u001b[0;36moneroom\u001b[1;34m(addr)\u001b[0m\n\u001b[0;32m     10\u001b[0m url \u001b[39m=\u001b[39m \u001b[39mf\u001b[39m\u001b[39m'\u001b[39m\u001b[39mhttps://apis.zigbang.com/v2/items?deposit_gteq=0&domain=zigbang\u001b[39m\u001b[39m\\\u001b[39m\u001b[39m&geohash=\u001b[39m\u001b[39m{\u001b[39;00mgeohash\u001b[39m}\u001b[39;00m\u001b[39m&needHasNoFiltered=true&rent_gteq=0&sales_type_in=전세|월세&service_type_eq=원룸\u001b[39m\u001b[39m'\u001b[39m\n\u001b[0;32m     11\u001b[0m response \u001b[39m=\u001b[39m requests\u001b[39m.\u001b[39mget(url) \n\u001b[1;32m---> 12\u001b[0m items \u001b[39m=\u001b[39m response\u001b[39m.\u001b[39mjson()[\u001b[39m'\u001b[39m\u001b[39mitems\u001b[39m\u001b[39m'\u001b[39m] \n\u001b[0;32m     13\u001b[0m ids \u001b[39m=\u001b[39m [item[\u001b[39m'\u001b[39m\u001b[39mitem_id\u001b[39m\u001b[39m'\u001b[39m] \u001b[39mfor\u001b[39;00m item \u001b[39min\u001b[39;00m items] \n\u001b[0;32m     14\u001b[0m url \u001b[39m=\u001b[39m \u001b[39m'\u001b[39m\u001b[39mhttps://apis.zigbang.com/v2/items/list\u001b[39m\u001b[39m'\u001b[39m \n",
      "\u001b[1;31mKeyError\u001b[0m: 'items'"
     ]
    }
   ],
   "source": [
    "df = zb.oneroom('망원동')"
   ]
  },
  {
   "cell_type": "code",
   "execution_count": null,
   "id": "870a7984",
   "metadata": {},
   "outputs": [],
   "source": []
  }
 ],
 "metadata": {
  "kernelspec": {
   "display_name": "Python 3 (ipykernel)",
   "language": "python",
   "name": "python3"
  },
  "language_info": {
   "codemirror_mode": {
    "name": "ipython",
    "version": 3
   },
   "file_extension": ".py",
   "mimetype": "text/x-python",
   "name": "python",
   "nbconvert_exporter": "python",
   "pygments_lexer": "ipython3",
   "version": "3.11.3"
  },
  "toc": {
   "base_numbering": 1,
   "nav_menu": {},
   "number_sections": false,
   "sideBar": true,
   "skip_h1_title": false,
   "title_cell": "Table of Contents",
   "title_sidebar": "Contents",
   "toc_cell": false,
   "toc_position": {},
   "toc_section_display": true,
   "toc_window_display": false
  }
 },
 "nbformat": 4,
 "nbformat_minor": 5
}
