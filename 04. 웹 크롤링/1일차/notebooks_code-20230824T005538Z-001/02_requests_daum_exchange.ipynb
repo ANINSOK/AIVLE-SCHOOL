{
 "cells": [
  {
   "cell_type": "markdown",
   "id": "ce44dd79",
   "metadata": {},
   "source": [
    "### Daum Exchange\n",
    "- `https://finance.daum.net`"
   ]
  },
  {
   "cell_type": "code",
   "execution_count": 1,
   "id": "bcf5c3fb",
   "metadata": {},
   "outputs": [],
   "source": [
    "import warnings\n",
    "warnings.filterwarnings('ignore')\n",
    "import pandas as pd\n",
    "import requests"
   ]
  },
  {
   "cell_type": "code",
   "execution_count": 18,
   "id": "cc5f987c",
   "metadata": {},
   "outputs": [
    {
     "data": {
      "text/html": [
       "<div>\n",
       "<style scoped>\n",
       "    .dataframe tbody tr th:only-of-type {\n",
       "        vertical-align: middle;\n",
       "    }\n",
       "\n",
       "    .dataframe tbody tr th {\n",
       "        vertical-align: top;\n",
       "    }\n",
       "\n",
       "    .dataframe thead th {\n",
       "        text-align: right;\n",
       "    }\n",
       "</style>\n",
       "<table border=\"1\" class=\"dataframe\">\n",
       "  <thead>\n",
       "    <tr style=\"text-align: right;\">\n",
       "      <th></th>\n",
       "      <th>symbolCode</th>\n",
       "      <th>country</th>\n",
       "      <th>currencyName</th>\n",
       "      <th>basePrice</th>\n",
       "    </tr>\n",
       "  </thead>\n",
       "  <tbody>\n",
       "    <tr>\n",
       "      <th>40</th>\n",
       "      <td>FRX.KRWQAR</td>\n",
       "      <td>카타르</td>\n",
       "      <td>리얄</td>\n",
       "      <td>362.78</td>\n",
       "    </tr>\n",
       "    <tr>\n",
       "      <th>41</th>\n",
       "      <td>FRX.KRWTRY</td>\n",
       "      <td>터키</td>\n",
       "      <td>리라</td>\n",
       "      <td>48.57</td>\n",
       "    </tr>\n",
       "  </tbody>\n",
       "</table>\n",
       "</div>"
      ],
      "text/plain": [
       "    symbolCode country currencyName  basePrice\n",
       "40  FRX.KRWQAR     카타르           리얄     362.78\n",
       "41  FRX.KRWTRY      터키           리라      48.57"
      ]
     },
     "execution_count": 18,
     "metadata": {},
     "output_type": "execute_result"
    }
   ],
   "source": [
    "headers = {\n",
    "    'User-Agent' : 'Mozilla/5.0 (Windows NT 10.0; Win64; x64) AppleWebKit/537.36 (KHTML, like Gecko) Chrome/116.0.0.0 Safari/537.36',\n",
    "    'Referer' : 'https://finance.daum.net/exchanges'    \n",
    "    }\n",
    "\n",
    "url = 'https://finance.daum.net/api/exchanges/summaries'\n",
    "response = requests.get(url, headers=headers)\n",
    "data = response.json()['data']\n",
    "df = pd.DataFrame(data)[['symbolCode','country','currencyName','basePrice']]\n",
    "df.tail(2)"
   ]
  },
  {
   "cell_type": "code",
   "execution_count": null,
   "id": "6518bdb2",
   "metadata": {},
   "outputs": [],
   "source": []
  }
 ],
 "metadata": {
  "kernelspec": {
   "display_name": "Python 3 (ipykernel)",
   "language": "python",
   "name": "python3"
  },
  "language_info": {
   "codemirror_mode": {
    "name": "ipython",
    "version": 3
   },
   "file_extension": ".py",
   "mimetype": "text/x-python",
   "name": "python",
   "nbconvert_exporter": "python",
   "pygments_lexer": "ipython3",
   "version": "3.11.3"
  }
 },
 "nbformat": 4,
 "nbformat_minor": 5
}
