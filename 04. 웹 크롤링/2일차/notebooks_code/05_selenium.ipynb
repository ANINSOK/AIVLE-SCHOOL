{
 "cells": [
  {
   "cell_type": "markdown",
   "id": "03fff3b4",
   "metadata": {},
   "source": [
    "### selenium\n",
    "- `https://www.selenium.dev`\n",
    "- 자동화를 목적으로 만들어진 다양한 브라우져와 언어를 지원하는 라이브러리\n",
    "- 크롬 브라우져 설치\n",
    "    - 크롬 브라우져 드라이버 다운로드 (크롬 브라우져와 같은 버전)\n",
    "    - 다운로드한 드라이버 압축 해제\n",
    "    - chromedriver, chromedriver.exe 생성\n",
    "    - windows : 주피터 노트북 파일과 동일한 디렉토리에 chromedriver.exe 파일 업로드\n",
    "    - mac : sudo cp ~/Download/chromedirver /usr/local/bin"
   ]
  },
  {
   "cell_type": "code",
   "execution_count": 4,
   "id": "43703a71",
   "metadata": {},
   "outputs": [],
   "source": [
    "!pip install selenium"
   ]
  },
  {
   "cell_type": "code",
   "execution_count": 6,
   "id": "a6e6bc99",
   "metadata": {
    "tags": []
   },
   "outputs": [],
   "source": [
    "import time\n",
    "import pandas as pd\n",
    "from selenium import webdriver\n",
    "from selenium.webdriver.common.by import By"
   ]
  },
  {
   "cell_type": "code",
   "execution_count": 2,
   "id": "1145031a",
   "metadata": {
    "tags": []
   },
   "outputs": [
    {
     "name": "stdout",
     "output_type": "stream",
     "text": [
      " C ����̺��� ����: WINDOWS\n",
      " ���� �Ϸ� ��ȣ: 1CE2-C115\n",
      "\n",
      " c:\\Users\\user\\Desktop\\KT AIVLE 4��\\04. �� ũ�Ѹ�\\2����\\notebooks_code ���͸�\n",
      "\n",
      "2023-08-25  ���� 03:41        14,312,960 chromedriver.exe\n",
      "               1�� ����          14,312,960 ����Ʈ\n",
      "               0�� ���͸�  152,371,036,160 ����Ʈ ����\n"
     ]
    }
   ],
   "source": [
    "%ls chromedriver.exe"
   ]
  },
  {
   "cell_type": "code",
   "execution_count": 8,
   "id": "3e60dd8c",
   "metadata": {},
   "outputs": [],
   "source": [
    "driver = webdriver.Chrome()"
   ]
  },
  {
   "cell_type": "code",
   "execution_count": 9,
   "id": "ffc9a21c",
   "metadata": {},
   "outputs": [],
   "source": [
    "# 페이지 이동\n",
    "driver.get(\"https://daum.net\")"
   ]
  },
  {
   "cell_type": "code",
   "execution_count": 10,
   "id": "c899aeba",
   "metadata": {},
   "outputs": [],
   "source": [
    "# 웹페이지 크기 변경\n",
    "driver.set_window_size(200, 600)"
   ]
  },
  {
   "cell_type": "code",
   "execution_count": 11,
   "id": "6f231e11",
   "metadata": {},
   "outputs": [],
   "source": [
    "# 브라우져 스크롤 조절\n",
    "driver.execute_script(\"window.scrollTo(200, 300);\")"
   ]
  },
  {
   "cell_type": "code",
   "execution_count": 12,
   "id": "5ff28624",
   "metadata": {},
   "outputs": [],
   "source": [
    "driver.set_window_size(800, 800)"
   ]
  },
  {
   "cell_type": "code",
   "execution_count": 13,
   "id": "948c10f8",
   "metadata": {},
   "outputs": [],
   "source": [
    "# 문자열 입력 \n",
    "driver.find_element(By.CSS_SELECTOR, '#q').send_keys('셀레니움')"
   ]
  },
  {
   "cell_type": "code",
   "execution_count": 14,
   "id": "f41e6018",
   "metadata": {},
   "outputs": [],
   "source": [
    "# 검색버튼 클릭\n",
    "selector = '.ico_pctop.btn_search'\n",
    "driver.find_element(By.CSS_SELECTOR, selector).click()"
   ]
  },
  {
   "cell_type": "code",
   "execution_count": 15,
   "id": "1a669b0c",
   "metadata": {},
   "outputs": [],
   "source": [
    "# 브라우저 종료\n",
    "driver.quit()"
   ]
  },
  {
   "cell_type": "code",
   "execution_count": null,
   "id": "39e30c91",
   "metadata": {},
   "outputs": [],
   "source": []
  },
  {
   "cell_type": "markdown",
   "id": "73cd3a43",
   "metadata": {},
   "source": [
    "#### 텍스트 데이터 가져오기\n",
    "- TED 사이트 : `https://www.ted.com`"
   ]
  },
  {
   "cell_type": "code",
   "execution_count": 21,
   "id": "a38c4853",
   "metadata": {},
   "outputs": [],
   "source": [
    "driver = webdriver.Chrome()\n",
    "driver.get('https://www.ted.com/talks')"
   ]
  },
  {
   "cell_type": "code",
   "execution_count": 22,
   "id": "6eb4fa10",
   "metadata": {},
   "outputs": [
    {
     "data": {
      "text/plain": [
       "'4300+ talks to stir your curiosity'"
      ]
     },
     "execution_count": 22,
     "metadata": {},
     "output_type": "execute_result"
    }
   ],
   "source": [
    "# 검색버튼 클릭\n",
    "selector = '.talks-header__title'\n",
    "driver.find_element(By.CSS_SELECTOR, selector).text"
   ]
  },
  {
   "cell_type": "code",
   "execution_count": 27,
   "id": "3732f49a",
   "metadata": {},
   "outputs": [
    {
     "data": {
      "text/plain": [
       "36"
      ]
     },
     "execution_count": 27,
     "metadata": {},
     "output_type": "execute_result"
    }
   ],
   "source": [
    "selector = '#browse-results > .row > div'\n",
    "contents = driver.find_elements(By.CSS_SELECTOR, selector)\n",
    "len(contents)"
   ]
  },
  {
   "cell_type": "code",
   "execution_count": 29,
   "id": "1da07b52",
   "metadata": {},
   "outputs": [
    {
     "data": {
      "text/plain": [
       "'Can alligators survive this apex predator?'"
      ]
     },
     "execution_count": 29,
     "metadata": {},
     "output_type": "execute_result"
    }
   ],
   "source": [
    "selector = '.media__message .ga-link'\n",
    "content = contents[0]\n",
    "content.find_element(By.CSS_SELECTOR, selector).text"
   ]
  },
  {
   "cell_type": "code",
   "execution_count": 30,
   "id": "45267912",
   "metadata": {},
   "outputs": [
    {
     "data": {
      "text/plain": [
       "(36,\n",
       " ['Can alligators survive this apex predator?',\n",
       "  \"How AI art could enhance humanity's collective memory\",\n",
       "  \"What's it like to be a giant sequoia tree?\"])"
      ]
     },
     "execution_count": 30,
     "metadata": {},
     "output_type": "execute_result"
    }
   ],
   "source": [
    "titles = [] \n",
    "for content in contents: \n",
    "    titles.append(content.find_element(By.CSS_SELECTOR, selector).text) \n",
    "len(titles), titles[:3]"
   ]
  },
  {
   "cell_type": "code",
   "execution_count": 31,
   "id": "fab94795",
   "metadata": {},
   "outputs": [],
   "source": [
    "driver.quit()"
   ]
  },
  {
   "cell_type": "markdown",
   "id": "783bd42c",
   "metadata": {},
   "source": [
    "#### 텍스트 데이터 가져오기\n",
    "- TED 사이트 : `https://www.ted.com`"
   ]
  },
  {
   "cell_type": "markdown",
   "id": "152eda00",
   "metadata": {},
   "source": [
    "#### Headless\n",
    "- 브라우져를 화면에 띄우지 않고 메모리상에서만 올려서 크롤링하는 방법 \n",
    "- window가 지원되지 않는 환경에서 사용이 가능\n",
    "- chrome version 60.0.0.0 이상부터 지원 합니다."
   ]
  },
  {
   "cell_type": "code",
   "execution_count": 34,
   "id": "ec5daf36",
   "metadata": {},
   "outputs": [
    {
     "name": "stdout",
     "output_type": "stream",
     "text": [
      "4300+ talks to stir your curiosity\n"
     ]
    }
   ],
   "source": [
    "options = webdriver.ChromeOptions() \n",
    "options.add_argument('headless') \n",
    "driver = webdriver.Chrome(options=options) \n",
    "driver.get('https://www.ted.com/talks') \n",
    "selector = '.talks-header__title' \n",
    "txt = driver.find_element(By.CSS_SELECTOR, selector).text \n",
    "driver.quit() \n",
    "print(txt)"
   ]
  },
  {
   "cell_type": "code",
   "execution_count": null,
   "id": "34f90b44",
   "metadata": {},
   "outputs": [],
   "source": []
  }
 ],
 "metadata": {
  "kernelspec": {
   "display_name": "Python 3 (ipykernel)",
   "language": "python",
   "name": "python3"
  },
  "language_info": {
   "codemirror_mode": {
    "name": "ipython",
    "version": 3
   },
   "file_extension": ".py",
   "mimetype": "text/x-python",
   "name": "python",
   "nbconvert_exporter": "python",
   "pygments_lexer": "ipython3",
   "version": "3.11.3"
  },
  "toc": {
   "base_numbering": 1,
   "nav_menu": {},
   "number_sections": false,
   "sideBar": true,
   "skip_h1_title": false,
   "title_cell": "Table of Contents",
   "title_sidebar": "Contents",
   "toc_cell": false,
   "toc_position": {},
   "toc_section_display": true,
   "toc_window_display": false
  }
 },
 "nbformat": 4,
 "nbformat_minor": 5
}
