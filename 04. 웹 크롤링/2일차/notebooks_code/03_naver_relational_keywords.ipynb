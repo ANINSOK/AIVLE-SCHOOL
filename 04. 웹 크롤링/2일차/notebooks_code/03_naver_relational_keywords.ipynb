{
 "cells": [
  {
   "cell_type": "markdown",
   "id": "2f46af77",
   "metadata": {},
   "source": [
    "### 네이버 연관 검색어 수집\n",
    "- 정적(static) 웹페이지 데이터 수집 \n",
    "- BeautifulSoup을 이용하여 HTML 문자열 데이터 parsing"
   ]
  },
  {
   "cell_type": "code",
   "execution_count": 2,
   "id": "d961db78",
   "metadata": {},
   "outputs": [],
   "source": [
    "import pandas as pd\n",
    "import requests\n",
    "from bs4 import BeautifulSoup"
   ]
  },
  {
   "cell_type": "markdown",
   "id": "16030538",
   "metadata": {},
   "source": [
    "#### 1. 웹페이지 분석 : URL"
   ]
  },
  {
   "cell_type": "code",
   "execution_count": 3,
   "id": "c1581d54",
   "metadata": {},
   "outputs": [
    {
     "data": {
      "text/plain": [
       "'https://search.naver.com/search.naver?where=nexearch&sm=top_hty&fbm=0&ie=utf8&query=삼성전자'"
      ]
     },
     "execution_count": 3,
     "metadata": {},
     "output_type": "execute_result"
    }
   ],
   "source": [
    "query = '삼성전자'\n",
    "url = f'https://search.naver.com/search.naver?where=nexearch&sm=top_hty&fbm=0&ie=utf8&query={query}'\n",
    "url"
   ]
  },
  {
   "cell_type": "markdown",
   "id": "56e6ea93",
   "metadata": {},
   "source": [
    "#### 2. request(URL) > response : str(html)"
   ]
  },
  {
   "cell_type": "code",
   "execution_count": 6,
   "id": "ceda1c7b",
   "metadata": {},
   "outputs": [
    {
     "data": {
      "text/plain": [
       "<Response [200]>"
      ]
     },
     "execution_count": 6,
     "metadata": {},
     "output_type": "execute_result"
    }
   ],
   "source": [
    "response = requests.get(url)\n",
    "response"
   ]
  },
  {
   "cell_type": "markdown",
   "id": "1e2acb8e",
   "metadata": {},
   "source": [
    "#### 3. str(html) > bs object"
   ]
  },
  {
   "cell_type": "code",
   "execution_count": 8,
   "id": "8736bc68",
   "metadata": {},
   "outputs": [
    {
     "data": {
      "text/plain": [
       "bs4.BeautifulSoup"
      ]
     },
     "execution_count": 8,
     "metadata": {},
     "output_type": "execute_result"
    }
   ],
   "source": [
    "dom = BeautifulSoup(response.text, 'html.parser')\n",
    "type(dom)"
   ]
  },
  {
   "cell_type": "markdown",
   "id": "252cf193",
   "metadata": {},
   "source": [
    "#### 4. bs object > .select(css-selector), .select_one(css-selector) > str(text)"
   ]
  },
  {
   "cell_type": "code",
   "execution_count": 28,
   "id": "525c3274",
   "metadata": {},
   "outputs": [
    {
     "data": {
      "text/plain": [
       "(10,\n",
       " <li class=\"item\"> <a class=\"keyword\" href=\"?where=nexearch&amp;query=%EC%82%BC%EC%84%B1%EC%A0%84%EC%9E%90%EC%A3%BC%EA%B0%80&amp;ie=utf8&amp;sm=tab_she&amp;qdt=0\" onclick=\"return goOtherCR(this, 'a=rsk_top*q.list1&amp;r=1&amp;u=' + urlencode(this.href))\"> <div class=\"tit\">삼성전자주가</div> </a> </li>)"
      ]
     },
     "execution_count": 28,
     "metadata": {},
     "output_type": "execute_result"
    }
   ],
   "source": [
    "# 10개의 엘리먼트들 선택\n",
    "# select() : list(Tag, Tag)\n",
    "# select_one() : Tag\n",
    "elements = dom.select('.lst_related_srch > .item')\n",
    "\n",
    "len(elements), elements[0]"
   ]
  },
  {
   "cell_type": "markdown",
   "id": "1e9ebdd4",
   "metadata": {},
   "source": [
    "#### 5. str(text) > DataFrame"
   ]
  },
  {
   "cell_type": "code",
   "execution_count": 33,
   "id": "62e1ef05",
   "metadata": {},
   "outputs": [
    {
     "data": {
      "text/plain": [
       "'삼성전자주가'"
      ]
     },
     "execution_count": 33,
     "metadata": {},
     "output_type": "execute_result"
    }
   ],
   "source": [
    "element = elements[0]\n",
    "keyword = element.select_one('.tit').text\n",
    "keyword"
   ]
  },
  {
   "cell_type": "code",
   "execution_count": 34,
   "id": "4f69a79d",
   "metadata": {},
   "outputs": [
    {
     "data": {
      "text/plain": [
       "['삼성전자주가',\n",
       " '삼성전자 배당금',\n",
       " '삼성전자서비스',\n",
       " '삼성전자주식',\n",
       " '오늘 삼성전자 주가',\n",
       " '삼성전자 배당금 지급일',\n",
       " '삼성전자몰',\n",
       " '삼성 전자레인지',\n",
       " '삼성전자 채용',\n",
       " '삼성전자 고객센터']"
      ]
     },
     "execution_count": 34,
     "metadata": {},
     "output_type": "execute_result"
    }
   ],
   "source": [
    "keywords = []\n",
    "for element in elements:\n",
    "    keyword = element.select_one('.tit').text\n",
    "    keywords.append(keyword)\n",
    "keywords"
   ]
  },
  {
   "cell_type": "code",
   "execution_count": 36,
   "id": "67b71134",
   "metadata": {},
   "outputs": [
    {
     "data": {
      "text/plain": [
       "['삼성전자주가',\n",
       " '삼성전자 배당금',\n",
       " '삼성전자서비스',\n",
       " '삼성전자주식',\n",
       " '오늘 삼성전자 주가',\n",
       " '삼성전자 배당금 지급일',\n",
       " '삼성전자몰',\n",
       " '삼성 전자레인지',\n",
       " '삼성전자 채용',\n",
       " '삼성전자 고객센터']"
      ]
     },
     "execution_count": 36,
     "metadata": {},
     "output_type": "execute_result"
    }
   ],
   "source": [
    "# list comprehension\n",
    "keywords =[element.select_one('.tit').text for element in elements] \n",
    "keywords"
   ]
  },
  {
   "cell_type": "code",
   "execution_count": 46,
   "id": "34a4b27d",
   "metadata": {},
   "outputs": [],
   "source": [
    "# 시간 데이터 넣기\n",
    "from datetime import datetime\n",
    "now = datetime.now().strftime('%Y-%m-%d %H:%M') # 현재 시각"
   ]
  },
  {
   "cell_type": "code",
   "execution_count": 47,
   "id": "8f2341cd",
   "metadata": {},
   "outputs": [
    {
     "data": {
      "text/html": [
       "<div>\n",
       "<style scoped>\n",
       "    .dataframe tbody tr th:only-of-type {\n",
       "        vertical-align: middle;\n",
       "    }\n",
       "\n",
       "    .dataframe tbody tr th {\n",
       "        vertical-align: top;\n",
       "    }\n",
       "\n",
       "    .dataframe thead th {\n",
       "        text-align: right;\n",
       "    }\n",
       "</style>\n",
       "<table border=\"1\" class=\"dataframe\">\n",
       "  <thead>\n",
       "    <tr style=\"text-align: right;\">\n",
       "      <th></th>\n",
       "      <th>keywords</th>\n",
       "      <th>query</th>\n",
       "      <th>datetime</th>\n",
       "    </tr>\n",
       "  </thead>\n",
       "  <tbody>\n",
       "    <tr>\n",
       "      <th>0</th>\n",
       "      <td>삼성전자주가</td>\n",
       "      <td>삼성전자</td>\n",
       "      <td>2023-08-25 12:21</td>\n",
       "    </tr>\n",
       "    <tr>\n",
       "      <th>1</th>\n",
       "      <td>삼성전자 배당금</td>\n",
       "      <td>삼성전자</td>\n",
       "      <td>2023-08-25 12:21</td>\n",
       "    </tr>\n",
       "    <tr>\n",
       "      <th>2</th>\n",
       "      <td>삼성전자서비스</td>\n",
       "      <td>삼성전자</td>\n",
       "      <td>2023-08-25 12:21</td>\n",
       "    </tr>\n",
       "    <tr>\n",
       "      <th>3</th>\n",
       "      <td>삼성전자주식</td>\n",
       "      <td>삼성전자</td>\n",
       "      <td>2023-08-25 12:21</td>\n",
       "    </tr>\n",
       "    <tr>\n",
       "      <th>4</th>\n",
       "      <td>오늘 삼성전자 주가</td>\n",
       "      <td>삼성전자</td>\n",
       "      <td>2023-08-25 12:21</td>\n",
       "    </tr>\n",
       "    <tr>\n",
       "      <th>5</th>\n",
       "      <td>삼성전자 배당금 지급일</td>\n",
       "      <td>삼성전자</td>\n",
       "      <td>2023-08-25 12:21</td>\n",
       "    </tr>\n",
       "    <tr>\n",
       "      <th>6</th>\n",
       "      <td>삼성전자몰</td>\n",
       "      <td>삼성전자</td>\n",
       "      <td>2023-08-25 12:21</td>\n",
       "    </tr>\n",
       "    <tr>\n",
       "      <th>7</th>\n",
       "      <td>삼성 전자레인지</td>\n",
       "      <td>삼성전자</td>\n",
       "      <td>2023-08-25 12:21</td>\n",
       "    </tr>\n",
       "    <tr>\n",
       "      <th>8</th>\n",
       "      <td>삼성전자 채용</td>\n",
       "      <td>삼성전자</td>\n",
       "      <td>2023-08-25 12:21</td>\n",
       "    </tr>\n",
       "    <tr>\n",
       "      <th>9</th>\n",
       "      <td>삼성전자 고객센터</td>\n",
       "      <td>삼성전자</td>\n",
       "      <td>2023-08-25 12:21</td>\n",
       "    </tr>\n",
       "  </tbody>\n",
       "</table>\n",
       "</div>"
      ],
      "text/plain": [
       "       keywords query          datetime\n",
       "0        삼성전자주가  삼성전자  2023-08-25 12:21\n",
       "1      삼성전자 배당금  삼성전자  2023-08-25 12:21\n",
       "2       삼성전자서비스  삼성전자  2023-08-25 12:21\n",
       "3        삼성전자주식  삼성전자  2023-08-25 12:21\n",
       "4    오늘 삼성전자 주가  삼성전자  2023-08-25 12:21\n",
       "5  삼성전자 배당금 지급일  삼성전자  2023-08-25 12:21\n",
       "6         삼성전자몰  삼성전자  2023-08-25 12:21\n",
       "7      삼성 전자레인지  삼성전자  2023-08-25 12:21\n",
       "8       삼성전자 채용  삼성전자  2023-08-25 12:21\n",
       "9     삼성전자 고객센터  삼성전자  2023-08-25 12:21"
      ]
     },
     "execution_count": 47,
     "metadata": {},
     "output_type": "execute_result"
    }
   ],
   "source": [
    "df = pd.DataFrame({'keywords' : keywords})\n",
    "df['query'] = query\n",
    "df['datetime'] = now\n",
    "df"
   ]
  },
  {
   "cell_type": "code",
   "execution_count": 48,
   "id": "6eab96bc",
   "metadata": {},
   "outputs": [],
   "source": [
    "# 함수로 만들기\n",
    "def naver_relate_keywords(query):\n",
    "\n",
    "    url = f'https://search.naver.com/search.naver?where=nexearch&sm=top_hty&fbm=0&ie=utf8&query={query}'\n",
    "    response = requests.get(url)\n",
    "    dom = BeautifulSoup(response.text, 'html.parser')\n",
    "    elements = dom.select('.lst_related_srch > .item')\n",
    "    keywords =[element.select_one('.tit').text for element in elements] \n",
    "    df = pd.DataFrame({'keywords' : keywords})\n",
    "    df['query'] = query\n",
    "    df['datetime'] = datetime.now().strftime('%Y-%m-%d %H:%M') # 현재 시각\n",
    "    \n",
    "    return df"
   ]
  },
  {
   "cell_type": "code",
   "execution_count": 60,
   "id": "7c67669c",
   "metadata": {},
   "outputs": [
    {
     "data": {
      "text/html": [
       "<div>\n",
       "<style scoped>\n",
       "    .dataframe tbody tr th:only-of-type {\n",
       "        vertical-align: middle;\n",
       "    }\n",
       "\n",
       "    .dataframe tbody tr th {\n",
       "        vertical-align: top;\n",
       "    }\n",
       "\n",
       "    .dataframe thead th {\n",
       "        text-align: right;\n",
       "    }\n",
       "</style>\n",
       "<table border=\"1\" class=\"dataframe\">\n",
       "  <thead>\n",
       "    <tr style=\"text-align: right;\">\n",
       "      <th></th>\n",
       "      <th>keywords</th>\n",
       "      <th>query</th>\n",
       "      <th>datetime</th>\n",
       "    </tr>\n",
       "  </thead>\n",
       "  <tbody>\n",
       "    <tr>\n",
       "      <th>0</th>\n",
       "      <td>삼성전자주가</td>\n",
       "      <td>삼성전자</td>\n",
       "      <td>2023-08-25 12:24</td>\n",
       "    </tr>\n",
       "    <tr>\n",
       "      <th>1</th>\n",
       "      <td>삼성전자 배당금</td>\n",
       "      <td>삼성전자</td>\n",
       "      <td>2023-08-25 12:24</td>\n",
       "    </tr>\n",
       "    <tr>\n",
       "      <th>2</th>\n",
       "      <td>삼성전자서비스</td>\n",
       "      <td>삼성전자</td>\n",
       "      <td>2023-08-25 12:24</td>\n",
       "    </tr>\n",
       "    <tr>\n",
       "      <th>3</th>\n",
       "      <td>삼성전자주식</td>\n",
       "      <td>삼성전자</td>\n",
       "      <td>2023-08-25 12:24</td>\n",
       "    </tr>\n",
       "    <tr>\n",
       "      <th>4</th>\n",
       "      <td>오늘 삼성전자 주가</td>\n",
       "      <td>삼성전자</td>\n",
       "      <td>2023-08-25 12:24</td>\n",
       "    </tr>\n",
       "    <tr>\n",
       "      <th>5</th>\n",
       "      <td>삼성전자 배당금 지급일</td>\n",
       "      <td>삼성전자</td>\n",
       "      <td>2023-08-25 12:24</td>\n",
       "    </tr>\n",
       "    <tr>\n",
       "      <th>6</th>\n",
       "      <td>삼성전자몰</td>\n",
       "      <td>삼성전자</td>\n",
       "      <td>2023-08-25 12:24</td>\n",
       "    </tr>\n",
       "    <tr>\n",
       "      <th>7</th>\n",
       "      <td>삼성 전자레인지</td>\n",
       "      <td>삼성전자</td>\n",
       "      <td>2023-08-25 12:24</td>\n",
       "    </tr>\n",
       "    <tr>\n",
       "      <th>8</th>\n",
       "      <td>삼성전자 채용</td>\n",
       "      <td>삼성전자</td>\n",
       "      <td>2023-08-25 12:24</td>\n",
       "    </tr>\n",
       "    <tr>\n",
       "      <th>9</th>\n",
       "      <td>삼성전자 고객센터</td>\n",
       "      <td>삼성전자</td>\n",
       "      <td>2023-08-25 12:24</td>\n",
       "    </tr>\n",
       "  </tbody>\n",
       "</table>\n",
       "</div>"
      ],
      "text/plain": [
       "       keywords query          datetime\n",
       "0        삼성전자주가  삼성전자  2023-08-25 12:24\n",
       "1      삼성전자 배당금  삼성전자  2023-08-25 12:24\n",
       "2       삼성전자서비스  삼성전자  2023-08-25 12:24\n",
       "3        삼성전자주식  삼성전자  2023-08-25 12:24\n",
       "4    오늘 삼성전자 주가  삼성전자  2023-08-25 12:24\n",
       "5  삼성전자 배당금 지급일  삼성전자  2023-08-25 12:24\n",
       "6         삼성전자몰  삼성전자  2023-08-25 12:24\n",
       "7      삼성 전자레인지  삼성전자  2023-08-25 12:24\n",
       "8       삼성전자 채용  삼성전자  2023-08-25 12:24\n",
       "9     삼성전자 고객센터  삼성전자  2023-08-25 12:24"
      ]
     },
     "execution_count": 60,
     "metadata": {},
     "output_type": "execute_result"
    }
   ],
   "source": [
    "naver_relate_keywords('삼성전자')"
   ]
  },
  {
   "cell_type": "code",
   "execution_count": 61,
   "id": "782e4086",
   "metadata": {},
   "outputs": [],
   "source": [
    "df1 = naver_relate_keywords('삼성전자')\n",
    "df2 = naver_relate_keywords('LG')"
   ]
  },
  {
   "cell_type": "code",
   "execution_count": 63,
   "id": "d4f91fab",
   "metadata": {},
   "outputs": [
    {
     "data": {
      "text/html": [
       "<div>\n",
       "<style scoped>\n",
       "    .dataframe tbody tr th:only-of-type {\n",
       "        vertical-align: middle;\n",
       "    }\n",
       "\n",
       "    .dataframe tbody tr th {\n",
       "        vertical-align: top;\n",
       "    }\n",
       "\n",
       "    .dataframe thead th {\n",
       "        text-align: right;\n",
       "    }\n",
       "</style>\n",
       "<table border=\"1\" class=\"dataframe\">\n",
       "  <thead>\n",
       "    <tr style=\"text-align: right;\">\n",
       "      <th></th>\n",
       "      <th>keywords</th>\n",
       "      <th>query</th>\n",
       "      <th>datetime</th>\n",
       "    </tr>\n",
       "  </thead>\n",
       "  <tbody>\n",
       "    <tr>\n",
       "      <th>0</th>\n",
       "      <td>삼성전자주가</td>\n",
       "      <td>삼성전자</td>\n",
       "      <td>2023-08-25 12:25</td>\n",
       "    </tr>\n",
       "    <tr>\n",
       "      <th>1</th>\n",
       "      <td>삼성전자 배당금</td>\n",
       "      <td>삼성전자</td>\n",
       "      <td>2023-08-25 12:25</td>\n",
       "    </tr>\n",
       "    <tr>\n",
       "      <th>2</th>\n",
       "      <td>삼성전자서비스</td>\n",
       "      <td>삼성전자</td>\n",
       "      <td>2023-08-25 12:25</td>\n",
       "    </tr>\n",
       "    <tr>\n",
       "      <th>3</th>\n",
       "      <td>삼성전자주식</td>\n",
       "      <td>삼성전자</td>\n",
       "      <td>2023-08-25 12:25</td>\n",
       "    </tr>\n",
       "    <tr>\n",
       "      <th>4</th>\n",
       "      <td>오늘 삼성전자 주가</td>\n",
       "      <td>삼성전자</td>\n",
       "      <td>2023-08-25 12:25</td>\n",
       "    </tr>\n",
       "    <tr>\n",
       "      <th>5</th>\n",
       "      <td>삼성전자 배당금 지급일</td>\n",
       "      <td>삼성전자</td>\n",
       "      <td>2023-08-25 12:25</td>\n",
       "    </tr>\n",
       "    <tr>\n",
       "      <th>6</th>\n",
       "      <td>삼성전자몰</td>\n",
       "      <td>삼성전자</td>\n",
       "      <td>2023-08-25 12:25</td>\n",
       "    </tr>\n",
       "    <tr>\n",
       "      <th>7</th>\n",
       "      <td>삼성 전자레인지</td>\n",
       "      <td>삼성전자</td>\n",
       "      <td>2023-08-25 12:25</td>\n",
       "    </tr>\n",
       "    <tr>\n",
       "      <th>8</th>\n",
       "      <td>삼성전자 채용</td>\n",
       "      <td>삼성전자</td>\n",
       "      <td>2023-08-25 12:25</td>\n",
       "    </tr>\n",
       "    <tr>\n",
       "      <th>9</th>\n",
       "      <td>삼성전자 고객센터</td>\n",
       "      <td>삼성전자</td>\n",
       "      <td>2023-08-25 12:25</td>\n",
       "    </tr>\n",
       "    <tr>\n",
       "      <th>10</th>\n",
       "      <td>LG전자</td>\n",
       "      <td>LG</td>\n",
       "      <td>2023-08-25 12:25</td>\n",
       "    </tr>\n",
       "    <tr>\n",
       "      <th>11</th>\n",
       "      <td>LG트윈스</td>\n",
       "      <td>LG</td>\n",
       "      <td>2023-08-25 12:25</td>\n",
       "    </tr>\n",
       "    <tr>\n",
       "      <th>12</th>\n",
       "      <td>lg야구</td>\n",
       "      <td>LG</td>\n",
       "      <td>2023-08-25 12:25</td>\n",
       "    </tr>\n",
       "    <tr>\n",
       "      <th>13</th>\n",
       "      <td>럭키금성</td>\n",
       "      <td>LG</td>\n",
       "      <td>2023-08-25 12:25</td>\n",
       "    </tr>\n",
       "    <tr>\n",
       "      <th>14</th>\n",
       "      <td>LG그룹</td>\n",
       "      <td>LG</td>\n",
       "      <td>2023-08-25 12:25</td>\n",
       "    </tr>\n",
       "    <tr>\n",
       "      <th>15</th>\n",
       "      <td>엘지</td>\n",
       "      <td>LG</td>\n",
       "      <td>2023-08-25 12:25</td>\n",
       "    </tr>\n",
       "    <tr>\n",
       "      <th>16</th>\n",
       "      <td>날씨</td>\n",
       "      <td>LG</td>\n",
       "      <td>2023-08-25 12:25</td>\n",
       "    </tr>\n",
       "    <tr>\n",
       "      <th>17</th>\n",
       "      <td>쿠팡</td>\n",
       "      <td>LG</td>\n",
       "      <td>2023-08-25 12:25</td>\n",
       "    </tr>\n",
       "    <tr>\n",
       "      <th>18</th>\n",
       "      <td>lg가전</td>\n",
       "      <td>LG</td>\n",
       "      <td>2023-08-25 12:25</td>\n",
       "    </tr>\n",
       "    <tr>\n",
       "      <th>19</th>\n",
       "      <td>lg계열사</td>\n",
       "      <td>LG</td>\n",
       "      <td>2023-08-25 12:25</td>\n",
       "    </tr>\n",
       "  </tbody>\n",
       "</table>\n",
       "</div>"
      ],
      "text/plain": [
       "        keywords query          datetime\n",
       "0         삼성전자주가  삼성전자  2023-08-25 12:25\n",
       "1       삼성전자 배당금  삼성전자  2023-08-25 12:25\n",
       "2        삼성전자서비스  삼성전자  2023-08-25 12:25\n",
       "3         삼성전자주식  삼성전자  2023-08-25 12:25\n",
       "4     오늘 삼성전자 주가  삼성전자  2023-08-25 12:25\n",
       "5   삼성전자 배당금 지급일  삼성전자  2023-08-25 12:25\n",
       "6          삼성전자몰  삼성전자  2023-08-25 12:25\n",
       "7       삼성 전자레인지  삼성전자  2023-08-25 12:25\n",
       "8        삼성전자 채용  삼성전자  2023-08-25 12:25\n",
       "9      삼성전자 고객센터  삼성전자  2023-08-25 12:25\n",
       "10          LG전자    LG  2023-08-25 12:25\n",
       "11         LG트윈스    LG  2023-08-25 12:25\n",
       "12          lg야구    LG  2023-08-25 12:25\n",
       "13          럭키금성    LG  2023-08-25 12:25\n",
       "14          LG그룹    LG  2023-08-25 12:25\n",
       "15            엘지    LG  2023-08-25 12:25\n",
       "16            날씨    LG  2023-08-25 12:25\n",
       "17            쿠팡    LG  2023-08-25 12:25\n",
       "18          lg가전    LG  2023-08-25 12:25\n",
       "19         lg계열사    LG  2023-08-25 12:25"
      ]
     },
     "execution_count": 63,
     "metadata": {},
     "output_type": "execute_result"
    }
   ],
   "source": [
    "pd.concat([df1, df2], ignore_index=True)"
   ]
  },
  {
   "cell_type": "code",
   "execution_count": 64,
   "id": "b4614995",
   "metadata": {},
   "outputs": [
    {
     "data": {
      "text/html": [
       "<div>\n",
       "<style scoped>\n",
       "    .dataframe tbody tr th:only-of-type {\n",
       "        vertical-align: middle;\n",
       "    }\n",
       "\n",
       "    .dataframe tbody tr th {\n",
       "        vertical-align: top;\n",
       "    }\n",
       "\n",
       "    .dataframe thead th {\n",
       "        text-align: right;\n",
       "    }\n",
       "</style>\n",
       "<table border=\"1\" class=\"dataframe\">\n",
       "  <thead>\n",
       "    <tr style=\"text-align: right;\">\n",
       "      <th></th>\n",
       "      <th>keywords</th>\n",
       "      <th>query</th>\n",
       "      <th>datetime</th>\n",
       "    </tr>\n",
       "  </thead>\n",
       "  <tbody>\n",
       "    <tr>\n",
       "      <th>0</th>\n",
       "      <td>삼성전자주가</td>\n",
       "      <td>삼성전자</td>\n",
       "      <td>2023-08-25 12:25</td>\n",
       "    </tr>\n",
       "    <tr>\n",
       "      <th>1</th>\n",
       "      <td>삼성전자 배당금</td>\n",
       "      <td>삼성전자</td>\n",
       "      <td>2023-08-25 12:25</td>\n",
       "    </tr>\n",
       "    <tr>\n",
       "      <th>2</th>\n",
       "      <td>삼성전자서비스</td>\n",
       "      <td>삼성전자</td>\n",
       "      <td>2023-08-25 12:25</td>\n",
       "    </tr>\n",
       "    <tr>\n",
       "      <th>3</th>\n",
       "      <td>삼성전자주식</td>\n",
       "      <td>삼성전자</td>\n",
       "      <td>2023-08-25 12:25</td>\n",
       "    </tr>\n",
       "    <tr>\n",
       "      <th>4</th>\n",
       "      <td>오늘 삼성전자 주가</td>\n",
       "      <td>삼성전자</td>\n",
       "      <td>2023-08-25 12:25</td>\n",
       "    </tr>\n",
       "    <tr>\n",
       "      <th>5</th>\n",
       "      <td>삼성전자 배당금 지급일</td>\n",
       "      <td>삼성전자</td>\n",
       "      <td>2023-08-25 12:25</td>\n",
       "    </tr>\n",
       "    <tr>\n",
       "      <th>6</th>\n",
       "      <td>삼성전자몰</td>\n",
       "      <td>삼성전자</td>\n",
       "      <td>2023-08-25 12:25</td>\n",
       "    </tr>\n",
       "    <tr>\n",
       "      <th>7</th>\n",
       "      <td>삼성 전자레인지</td>\n",
       "      <td>삼성전자</td>\n",
       "      <td>2023-08-25 12:25</td>\n",
       "    </tr>\n",
       "    <tr>\n",
       "      <th>8</th>\n",
       "      <td>삼성전자 채용</td>\n",
       "      <td>삼성전자</td>\n",
       "      <td>2023-08-25 12:25</td>\n",
       "    </tr>\n",
       "    <tr>\n",
       "      <th>9</th>\n",
       "      <td>삼성전자 고객센터</td>\n",
       "      <td>삼성전자</td>\n",
       "      <td>2023-08-25 12:25</td>\n",
       "    </tr>\n",
       "    <tr>\n",
       "      <th>0</th>\n",
       "      <td>LG전자</td>\n",
       "      <td>LG</td>\n",
       "      <td>2023-08-25 12:25</td>\n",
       "    </tr>\n",
       "    <tr>\n",
       "      <th>1</th>\n",
       "      <td>LG트윈스</td>\n",
       "      <td>LG</td>\n",
       "      <td>2023-08-25 12:25</td>\n",
       "    </tr>\n",
       "    <tr>\n",
       "      <th>2</th>\n",
       "      <td>lg야구</td>\n",
       "      <td>LG</td>\n",
       "      <td>2023-08-25 12:25</td>\n",
       "    </tr>\n",
       "    <tr>\n",
       "      <th>3</th>\n",
       "      <td>럭키금성</td>\n",
       "      <td>LG</td>\n",
       "      <td>2023-08-25 12:25</td>\n",
       "    </tr>\n",
       "    <tr>\n",
       "      <th>4</th>\n",
       "      <td>LG그룹</td>\n",
       "      <td>LG</td>\n",
       "      <td>2023-08-25 12:25</td>\n",
       "    </tr>\n",
       "    <tr>\n",
       "      <th>5</th>\n",
       "      <td>엘지</td>\n",
       "      <td>LG</td>\n",
       "      <td>2023-08-25 12:25</td>\n",
       "    </tr>\n",
       "    <tr>\n",
       "      <th>6</th>\n",
       "      <td>날씨</td>\n",
       "      <td>LG</td>\n",
       "      <td>2023-08-25 12:25</td>\n",
       "    </tr>\n",
       "    <tr>\n",
       "      <th>7</th>\n",
       "      <td>쿠팡</td>\n",
       "      <td>LG</td>\n",
       "      <td>2023-08-25 12:25</td>\n",
       "    </tr>\n",
       "    <tr>\n",
       "      <th>8</th>\n",
       "      <td>lg가전</td>\n",
       "      <td>LG</td>\n",
       "      <td>2023-08-25 12:25</td>\n",
       "    </tr>\n",
       "    <tr>\n",
       "      <th>9</th>\n",
       "      <td>lg계열사</td>\n",
       "      <td>LG</td>\n",
       "      <td>2023-08-25 12:25</td>\n",
       "    </tr>\n",
       "  </tbody>\n",
       "</table>\n",
       "</div>"
      ],
      "text/plain": [
       "       keywords query          datetime\n",
       "0        삼성전자주가  삼성전자  2023-08-25 12:25\n",
       "1      삼성전자 배당금  삼성전자  2023-08-25 12:25\n",
       "2       삼성전자서비스  삼성전자  2023-08-25 12:25\n",
       "3        삼성전자주식  삼성전자  2023-08-25 12:25\n",
       "4    오늘 삼성전자 주가  삼성전자  2023-08-25 12:25\n",
       "5  삼성전자 배당금 지급일  삼성전자  2023-08-25 12:25\n",
       "6         삼성전자몰  삼성전자  2023-08-25 12:25\n",
       "7      삼성 전자레인지  삼성전자  2023-08-25 12:25\n",
       "8       삼성전자 채용  삼성전자  2023-08-25 12:25\n",
       "9     삼성전자 고객센터  삼성전자  2023-08-25 12:25\n",
       "0          LG전자    LG  2023-08-25 12:25\n",
       "1         LG트윈스    LG  2023-08-25 12:25\n",
       "2          lg야구    LG  2023-08-25 12:25\n",
       "3          럭키금성    LG  2023-08-25 12:25\n",
       "4          LG그룹    LG  2023-08-25 12:25\n",
       "5            엘지    LG  2023-08-25 12:25\n",
       "6            날씨    LG  2023-08-25 12:25\n",
       "7            쿠팡    LG  2023-08-25 12:25\n",
       "8          lg가전    LG  2023-08-25 12:25\n",
       "9         lg계열사    LG  2023-08-25 12:25"
      ]
     },
     "execution_count": 64,
     "metadata": {},
     "output_type": "execute_result"
    }
   ],
   "source": [
    "pd.concat([df1, df2])"
   ]
  },
  {
   "cell_type": "code",
   "execution_count": null,
   "id": "245cf7a0",
   "metadata": {},
   "outputs": [],
   "source": []
  }
 ],
 "metadata": {
  "kernelspec": {
   "display_name": "Python 3 (ipykernel)",
   "language": "python",
   "name": "python3"
  },
  "language_info": {
   "codemirror_mode": {
    "name": "ipython",
    "version": 3
   },
   "file_extension": ".py",
   "mimetype": "text/x-python",
   "name": "python",
   "nbconvert_exporter": "python",
   "pygments_lexer": "ipython3",
   "version": "3.11.3"
  },
  "toc": {
   "base_numbering": 1,
   "nav_menu": {},
   "number_sections": false,
   "sideBar": true,
   "skip_h1_title": false,
   "title_cell": "Table of Contents",
   "title_sidebar": "Contents",
   "toc_cell": false,
   "toc_position": {},
   "toc_section_display": true,
   "toc_window_display": false
  }
 },
 "nbformat": 4,
 "nbformat_minor": 5
}
