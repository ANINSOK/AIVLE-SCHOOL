{
  "cells": [
    {
      "cell_type": "markdown",
      "metadata": {},
      "source": [
        "# langchain / chromaDB"
      ]
    },
    {
      "cell_type": "markdown",
      "metadata": {},
      "source": [
        "## 1. 라이브러리 설치"
      ]
    },
    {
      "cell_type": "code",
      "execution_count": null,
      "metadata": {},
      "outputs": [],
      "source": [
        "pip install langchain openai huggingface_hub -q\n",
        "pip install sentence_transformers chromadb -q\n",
        "pip install sentence-transformers\n",
        "pip install chromadb -c"
      ]
    },
    {
      "cell_type": "markdown",
      "metadata": {},
      "source": [
        "## example text"
      ]
    },
    {
      "cell_type": "code",
      "execution_count": 1,
      "metadata": {},
      "outputs": [],
      "source": [
        "examples = [\"\"\"무하마드 알리와 앨런 튜링 중 누가 더 오래 살았나요?\n",
        " 여기에 후속 질문이 필요한가요? 예.\n",
        " 이어서 질문하세요: 무하마드 알리가 사망했을 때 그의 나이는 몇 살이었나요?\n",
        " 중간 답변: 무하마드 알리는 사망 당시 74세였습니다.\n",
        " 후속 질문: 앨런 튜링은 사망했을 때 몇 살이었나요?\n",
        " 중급 정답: 앨런 튜링은 사망 당시 41세였습니다.\n",
        " 최종 정답은 무하마드 알리\n",
        "\"\"\",\n",
        "\"\"\"크레이그리스트의 창립자는 언제 태어났나요?\n",
        " 여기에 후속 질문이 필요한가요? 예.\n",
        " 후속 질문입니다: 크레이그리스트의 창립자는 누구인가요?\n",
        " 중간 답변: 크레이그리스트는 크레이그 뉴마크가 설립했습니다.\n",
        " 후속 질문: 크레이그 뉴마크는 언제 태어났나요?\n",
        " 중급 정답: 크레이그 뉴마크는 1952년 12월 6일에\n",
        "태어났습니다.\n",
        " 따라서 최종 정답은 1952년 12월 6일\"\"\",\n",
        "\"\"\"조지 워싱턴의 외할아버지는 누구였나요?\n",
        " 여기에 후속 질문이 필요한가요? 예.\n",
        " 계속하세요: 조지 워싱턴의 어머니는 누구였나요?\n",
        " 중간 수준의 답입니다: 조지 워싱턴의 어머니는 메리 볼 워싱턴이었습니다.\n",
        " 후속 질문: 메리 볼 워싱턴의 아버지는 누구였습니까?\n",
        " 중급 정답: 메리 볼 워싱턴의 아버지는 조셉 볼이었습니다.\n",
        " 최종 정답은 조셉 볼\"\"\",\n",
        "\"\"\"죠스와 카지노 로얄의 감독이 모두 같은 나라 출신인가요?\n",
        " 여기에서 후속 질문이 필요한가요? 예.\n",
        " 후속 질문이 필요합니다: 죠스의 감독은 누구인가요?\n",
        " 중간 수준의 답변: 죠스의 감독은 스티븐 스필버그입니다.\n",
        " 후속 질문: 스티븐 스필버그는 어디 출신인가요?\n",
        " 중급 정답: 미국입니다.\n",
        " 후속 질문: 카지노 로얄의 감독은 누구인가요?\n",
        " 중급 정답: 카지노 로얄의 감독은 마틴 캠벨입니다.\n",
        " 후속 질문: 마틴 캠벨은 어디 출신인가요?\n",
        " 중급 답변: 뉴질랜드입니다.\n",
        " 최종 정답은 아니요\"\"\"\n",
        "]"
      ]
    },
    {
      "cell_type": "code",
      "execution_count": 2,
      "metadata": {},
      "outputs": [
        {
          "ename": "ImportError",
          "evalue": "Could not import chromadb python package. Please install it with `pip install chromadb`.",
          "output_type": "error",
          "traceback": [
            "\u001b[1;31m---------------------------------------------------------------------------\u001b[0m",
            "\u001b[1;31mModuleNotFoundError\u001b[0m                       Traceback (most recent call last)",
            "File \u001b[1;32mc:\\Users\\user\\anaconda3\\Lib\\site-packages\\langchain\\vectorstores\\chroma.py:80\u001b[0m, in \u001b[0;36mChroma.__init__\u001b[1;34m(self, collection_name, embedding_function, persist_directory, client_settings, collection_metadata, client, relevance_score_fn)\u001b[0m\n\u001b[0;32m     79\u001b[0m \u001b[39mtry\u001b[39;00m:\n\u001b[1;32m---> 80\u001b[0m     \u001b[39mimport\u001b[39;00m \u001b[39mchromadb\u001b[39;00m\n\u001b[0;32m     81\u001b[0m     \u001b[39mimport\u001b[39;00m \u001b[39mchromadb\u001b[39;00m\u001b[39m.\u001b[39;00m\u001b[39mconfig\u001b[39;00m\n",
            "\u001b[1;31mModuleNotFoundError\u001b[0m: No module named 'chromadb'",
            "\nDuring handling of the above exception, another exception occurred:\n",
            "\u001b[1;31mImportError\u001b[0m                               Traceback (most recent call last)",
            "\u001b[1;32mc:\\Users\\user\\Desktop\\KT AIVLE 4기\\06. 딥러닝\\2023.09.04_딥러닝_실습자료\\딥러닝_vectorDB, 임베딩.ipynb 셀 6\u001b[0m line \u001b[0;36m4\n\u001b[0;32m      <a href='vscode-notebook-cell:/c%3A/Users/user/Desktop/KT%20AIVLE%204%EA%B8%B0/06.%20%EB%94%A5%EB%9F%AC%EB%8B%9D/2023.09.04_%EB%94%A5%EB%9F%AC%EB%8B%9D_%EC%8B%A4%EC%8A%B5%EC%9E%90%EB%A3%8C/%EB%94%A5%EB%9F%AC%EB%8B%9D_vectorDB%2C%20%EC%9E%84%EB%B2%A0%EB%94%A9.ipynb#X11sZmlsZQ%3D%3D?line=0'>1</a>\u001b[0m \u001b[39mfrom\u001b[39;00m \u001b[39mlangchain\u001b[39;00m\u001b[39m.\u001b[39;00m\u001b[39mvectorstores\u001b[39;00m \u001b[39mimport\u001b[39;00m Chroma\n\u001b[0;32m      <a href='vscode-notebook-cell:/c%3A/Users/user/Desktop/KT%20AIVLE%204%EA%B8%B0/06.%20%EB%94%A5%EB%9F%AC%EB%8B%9D/2023.09.04_%EB%94%A5%EB%9F%AC%EB%8B%9D_%EC%8B%A4%EC%8A%B5%EC%9E%90%EB%A3%8C/%EB%94%A5%EB%9F%AC%EB%8B%9D_vectorDB%2C%20%EC%9E%84%EB%B2%A0%EB%94%A9.ipynb#X11sZmlsZQ%3D%3D?line=1'>2</a>\u001b[0m \u001b[39mfrom\u001b[39;00m \u001b[39mlangchain\u001b[39;00m\u001b[39m.\u001b[39;00m\u001b[39membeddings\u001b[39;00m \u001b[39mimport\u001b[39;00m HuggingFaceEmbeddings\n\u001b[1;32m----> <a href='vscode-notebook-cell:/c%3A/Users/user/Desktop/KT%20AIVLE%204%EA%B8%B0/06.%20%EB%94%A5%EB%9F%AC%EB%8B%9D/2023.09.04_%EB%94%A5%EB%9F%AC%EB%8B%9D_%EC%8B%A4%EC%8A%B5%EC%9E%90%EB%A3%8C/%EB%94%A5%EB%9F%AC%EB%8B%9D_vectorDB%2C%20%EC%9E%84%EB%B2%A0%EB%94%A9.ipynb#X11sZmlsZQ%3D%3D?line=3'>4</a>\u001b[0m db \u001b[39m=\u001b[39m Chroma\u001b[39m.\u001b[39mfrom_texts(\n\u001b[0;32m      <a href='vscode-notebook-cell:/c%3A/Users/user/Desktop/KT%20AIVLE%204%EA%B8%B0/06.%20%EB%94%A5%EB%9F%AC%EB%8B%9D/2023.09.04_%EB%94%A5%EB%9F%AC%EB%8B%9D_%EC%8B%A4%EC%8A%B5%EC%9E%90%EB%A3%8C/%EB%94%A5%EB%9F%AC%EB%8B%9D_vectorDB%2C%20%EC%9E%84%EB%B2%A0%EB%94%A9.ipynb#X11sZmlsZQ%3D%3D?line=4'>5</a>\u001b[0m  collection_name\u001b[39m=\u001b[39m\u001b[39m\"\u001b[39m\u001b[39msample\u001b[39m\u001b[39m\"\u001b[39m,\n\u001b[0;32m      <a href='vscode-notebook-cell:/c%3A/Users/user/Desktop/KT%20AIVLE%204%EA%B8%B0/06.%20%EB%94%A5%EB%9F%AC%EB%8B%9D/2023.09.04_%EB%94%A5%EB%9F%AC%EB%8B%9D_%EC%8B%A4%EC%8A%B5%EC%9E%90%EB%A3%8C/%EB%94%A5%EB%9F%AC%EB%8B%9D_vectorDB%2C%20%EC%9E%84%EB%B2%A0%EB%94%A9.ipynb#X11sZmlsZQ%3D%3D?line=5'>6</a>\u001b[0m  texts\u001b[39m=\u001b[39mexamples,\n\u001b[0;32m      <a href='vscode-notebook-cell:/c%3A/Users/user/Desktop/KT%20AIVLE%204%EA%B8%B0/06.%20%EB%94%A5%EB%9F%AC%EB%8B%9D/2023.09.04_%EB%94%A5%EB%9F%AC%EB%8B%9D_%EC%8B%A4%EC%8A%B5%EC%9E%90%EB%A3%8C/%EB%94%A5%EB%9F%AC%EB%8B%9D_vectorDB%2C%20%EC%9E%84%EB%B2%A0%EB%94%A9.ipynb#X11sZmlsZQ%3D%3D?line=6'>7</a>\u001b[0m  embedding\u001b[39m=\u001b[39mHuggingFaceEmbeddings(model_name\u001b[39m=\u001b[39m\u001b[39m\"\u001b[39m\u001b[39mjhgan/ko-sbert-sts\u001b[39m\u001b[39m\"\u001b[39m)\n\u001b[0;32m      <a href='vscode-notebook-cell:/c%3A/Users/user/Desktop/KT%20AIVLE%204%EA%B8%B0/06.%20%EB%94%A5%EB%9F%AC%EB%8B%9D/2023.09.04_%EB%94%A5%EB%9F%AC%EB%8B%9D_%EC%8B%A4%EC%8A%B5%EC%9E%90%EB%A3%8C/%EB%94%A5%EB%9F%AC%EB%8B%9D_vectorDB%2C%20%EC%9E%84%EB%B2%A0%EB%94%A9.ipynb#X11sZmlsZQ%3D%3D?line=7'>8</a>\u001b[0m )\n",
            "File \u001b[1;32mc:\\Users\\user\\anaconda3\\Lib\\site-packages\\langchain\\vectorstores\\chroma.py:567\u001b[0m, in \u001b[0;36mChroma.from_texts\u001b[1;34m(cls, texts, embedding, metadatas, ids, collection_name, persist_directory, client_settings, client, collection_metadata, **kwargs)\u001b[0m\n\u001b[0;32m    534\u001b[0m \u001b[39m@classmethod\u001b[39m\n\u001b[0;32m    535\u001b[0m \u001b[39mdef\u001b[39;00m \u001b[39mfrom_texts\u001b[39m(\n\u001b[0;32m    536\u001b[0m     \u001b[39mcls\u001b[39m: Type[Chroma],\n\u001b[1;32m   (...)\u001b[0m\n\u001b[0;32m    546\u001b[0m     \u001b[39m*\u001b[39m\u001b[39m*\u001b[39mkwargs: Any,\n\u001b[0;32m    547\u001b[0m ) \u001b[39m-\u001b[39m\u001b[39m>\u001b[39m Chroma:\n\u001b[0;32m    548\u001b[0m \u001b[39m    \u001b[39m\u001b[39m\"\"\"Create a Chroma vectorstore from a raw documents.\u001b[39;00m\n\u001b[0;32m    549\u001b[0m \n\u001b[0;32m    550\u001b[0m \u001b[39m    If a persist_directory is specified, the collection will be persisted there.\u001b[39;00m\n\u001b[1;32m   (...)\u001b[0m\n\u001b[0;32m    565\u001b[0m \u001b[39m        Chroma: Chroma vectorstore.\u001b[39;00m\n\u001b[0;32m    566\u001b[0m \u001b[39m    \"\"\"\u001b[39;00m\n\u001b[1;32m--> 567\u001b[0m     chroma_collection \u001b[39m=\u001b[39m \u001b[39mcls\u001b[39m(\n\u001b[0;32m    568\u001b[0m         collection_name\u001b[39m=\u001b[39mcollection_name,\n\u001b[0;32m    569\u001b[0m         embedding_function\u001b[39m=\u001b[39membedding,\n\u001b[0;32m    570\u001b[0m         persist_directory\u001b[39m=\u001b[39mpersist_directory,\n\u001b[0;32m    571\u001b[0m         client_settings\u001b[39m=\u001b[39mclient_settings,\n\u001b[0;32m    572\u001b[0m         client\u001b[39m=\u001b[39mclient,\n\u001b[0;32m    573\u001b[0m         collection_metadata\u001b[39m=\u001b[39mcollection_metadata,\n\u001b[0;32m    574\u001b[0m         \u001b[39m*\u001b[39m\u001b[39m*\u001b[39mkwargs,\n\u001b[0;32m    575\u001b[0m     )\n\u001b[0;32m    576\u001b[0m     chroma_collection\u001b[39m.\u001b[39madd_texts(texts\u001b[39m=\u001b[39mtexts, metadatas\u001b[39m=\u001b[39mmetadatas, ids\u001b[39m=\u001b[39mids)\n\u001b[0;32m    577\u001b[0m     \u001b[39mreturn\u001b[39;00m chroma_collection\n",
            "File \u001b[1;32mc:\\Users\\user\\anaconda3\\Lib\\site-packages\\langchain\\vectorstores\\chroma.py:83\u001b[0m, in \u001b[0;36mChroma.__init__\u001b[1;34m(self, collection_name, embedding_function, persist_directory, client_settings, collection_metadata, client, relevance_score_fn)\u001b[0m\n\u001b[0;32m     81\u001b[0m     \u001b[39mimport\u001b[39;00m \u001b[39mchromadb\u001b[39;00m\u001b[39m.\u001b[39;00m\u001b[39mconfig\u001b[39;00m\n\u001b[0;32m     82\u001b[0m \u001b[39mexcept\u001b[39;00m \u001b[39mImportError\u001b[39;00m:\n\u001b[1;32m---> 83\u001b[0m     \u001b[39mraise\u001b[39;00m \u001b[39mImportError\u001b[39;00m(\n\u001b[0;32m     84\u001b[0m         \u001b[39m\"\u001b[39m\u001b[39mCould not import chromadb python package. \u001b[39m\u001b[39m\"\u001b[39m\n\u001b[0;32m     85\u001b[0m         \u001b[39m\"\u001b[39m\u001b[39mPlease install it with `pip install chromadb`.\u001b[39m\u001b[39m\"\u001b[39m\n\u001b[0;32m     86\u001b[0m     )\n\u001b[0;32m     88\u001b[0m \u001b[39mif\u001b[39;00m client \u001b[39mis\u001b[39;00m \u001b[39mnot\u001b[39;00m \u001b[39mNone\u001b[39;00m:\n\u001b[0;32m     89\u001b[0m     \u001b[39mself\u001b[39m\u001b[39m.\u001b[39m_client_settings \u001b[39m=\u001b[39m client_settings\n",
            "\u001b[1;31mImportError\u001b[0m: Could not import chromadb python package. Please install it with `pip install chromadb`."
          ]
        }
      ],
      "source": [
        "from langchain.vectorstores import Chroma\n",
        "from langchain.embeddings import HuggingFaceEmbeddings\n",
        "\n",
        "db = Chroma.from_texts(\n",
        " collection_name=\"sample\",\n",
        " texts=examples,\n",
        " embedding=HuggingFaceEmbeddings(model_name=\"jhgan/ko-sbert-sts\")\n",
        ")"
      ]
    },
    {
      "cell_type": "code",
      "execution_count": 1,
      "metadata": {},
      "outputs": [
        {
          "name": "stdout",
          "output_type": "stream",
          "text": [
            "Collecting chromadb\n",
            "  Obtaining dependency information for chromadb from https://files.pythonhosted.org/packages/ac/92/9abbb58e8b334a3c2aeca828bff8b034ea68a1947d898f3b42ae3c00ce1f/chromadb-0.4.9-py3-none-any.whl.metadata\n",
            "  Using cached chromadb-0.4.9-py3-none-any.whl.metadata (7.0 kB)\n",
            "Requirement already satisfied: requests>=2.28 in c:\\users\\user\\anaconda3\\lib\\site-packages (from chromadb) (2.29.0)\n",
            "Collecting pydantic<2.0,>=1.9 (from chromadb)\n",
            "  Obtaining dependency information for pydantic<2.0,>=1.9 from https://files.pythonhosted.org/packages/e1/6b/6a68bd4f0837accdb78cf07e8590f2c9f00334003681b94d4957424248f2/pydantic-1.10.12-cp311-cp311-win_amd64.whl.metadata\n",
            "  Using cached pydantic-1.10.12-cp311-cp311-win_amd64.whl.metadata (150 kB)\n",
            "Collecting chroma-hnswlib==0.7.2 (from chromadb)\n",
            "  Using cached chroma-hnswlib-0.7.2.tar.gz (31 kB)\n",
            "  Installing build dependencies: started\n",
            "  Installing build dependencies: finished with status 'done'\n",
            "  Getting requirements to build wheel: started\n",
            "  Getting requirements to build wheel: finished with status 'done'\n",
            "  Preparing metadata (pyproject.toml): started\n",
            "  Preparing metadata (pyproject.toml): finished with status 'done'\n",
            "Collecting fastapi<0.100.0,>=0.95.2 (from chromadb)\n",
            "  Obtaining dependency information for fastapi<0.100.0,>=0.95.2 from https://files.pythonhosted.org/packages/73/eb/03b691afa0b5ffa1e93ed34f97ec1e7855c758efbdcfb16c209af0b0506b/fastapi-0.99.1-py3-none-any.whl.metadata\n",
            "  Using cached fastapi-0.99.1-py3-none-any.whl.metadata (23 kB)\n",
            "Requirement already satisfied: uvicorn[standard]>=0.18.3 in c:\\users\\user\\anaconda3\\lib\\site-packages (from chromadb) (0.23.2)\n",
            "Collecting posthog>=2.4.0 (from chromadb)\n",
            "  Obtaining dependency information for posthog>=2.4.0 from https://files.pythonhosted.org/packages/a7/73/35758818228c70348be4c3c66a76653c62e894e0e3c3461453c5341ca926/posthog-3.0.2-py2.py3-none-any.whl.metadata\n",
            "  Using cached posthog-3.0.2-py2.py3-none-any.whl.metadata (2.0 kB)\n",
            "Requirement already satisfied: typing-extensions>=4.5.0 in c:\\users\\user\\anaconda3\\lib\\site-packages (from chromadb) (4.7.1)\n",
            "Collecting pulsar-client>=3.1.0 (from chromadb)\n",
            "  Obtaining dependency information for pulsar-client>=3.1.0 from https://files.pythonhosted.org/packages/72/7f/267fb790b26dab29c0a3cdd8ca1cd0a73ce92200e9d381153f51cd731757/pulsar_client-3.3.0-cp311-cp311-win_amd64.whl.metadata\n",
            "  Using cached pulsar_client-3.3.0-cp311-cp311-win_amd64.whl.metadata (1.0 kB)\n",
            "Collecting onnxruntime>=1.14.1 (from chromadb)\n",
            "  Obtaining dependency information for onnxruntime>=1.14.1 from https://files.pythonhosted.org/packages/01/ba/58f52bf735687c9dedf662f59ea7e110972481cd4101145c4de528abce35/onnxruntime-1.15.1-cp311-cp311-win_amd64.whl.metadata\n",
            "  Using cached onnxruntime-1.15.1-cp311-cp311-win_amd64.whl.metadata (4.1 kB)\n",
            "Requirement already satisfied: tokenizers>=0.13.2 in c:\\users\\user\\anaconda3\\lib\\site-packages (from chromadb) (0.13.3)\n",
            "Collecting pypika>=0.48.9 (from chromadb)\n",
            "  Using cached PyPika-0.48.9-py2.py3-none-any.whl\n",
            "Requirement already satisfied: tqdm>=4.65.0 in c:\\users\\user\\anaconda3\\lib\\site-packages (from chromadb) (4.65.0)\n",
            "Collecting overrides>=7.3.1 (from chromadb)\n",
            "  Obtaining dependency information for overrides>=7.3.1 from https://files.pythonhosted.org/packages/da/28/3fa6ef8297302fc7b3844980b6c5dbc71cdbd4b61e9b2591234214d5ab39/overrides-7.4.0-py3-none-any.whl.metadata\n",
            "  Using cached overrides-7.4.0-py3-none-any.whl.metadata (5.7 kB)\n",
            "Requirement already satisfied: importlib-resources in c:\\users\\user\\anaconda3\\lib\\site-packages (from chromadb) (6.0.1)\n",
            "Collecting bcrypt>=4.0.1 (from chromadb)\n",
            "  Using cached bcrypt-4.0.1-cp36-abi3-win_amd64.whl (152 kB)\n",
            "Requirement already satisfied: numpy>=1.22.5 in c:\\users\\user\\anaconda3\\lib\\site-packages (from chromadb) (1.24.3)\n",
            "Requirement already satisfied: starlette<0.28.0,>=0.27.0 in c:\\users\\user\\anaconda3\\lib\\site-packages (from fastapi<0.100.0,>=0.95.2->chromadb) (0.27.0)\n",
            "Collecting coloredlogs (from onnxruntime>=1.14.1->chromadb)\n",
            "  Using cached coloredlogs-15.0.1-py2.py3-none-any.whl (46 kB)\n",
            "Requirement already satisfied: flatbuffers in c:\\users\\user\\anaconda3\\lib\\site-packages (from onnxruntime>=1.14.1->chromadb) (23.5.26)\n",
            "Requirement already satisfied: packaging in c:\\users\\user\\anaconda3\\lib\\site-packages (from onnxruntime>=1.14.1->chromadb) (23.0)\n",
            "Requirement already satisfied: protobuf in c:\\users\\user\\anaconda3\\lib\\site-packages (from onnxruntime>=1.14.1->chromadb) (4.24.2)\n",
            "Requirement already satisfied: sympy in c:\\users\\user\\anaconda3\\lib\\site-packages (from onnxruntime>=1.14.1->chromadb) (1.11.1)\n",
            "Requirement already satisfied: six>=1.5 in c:\\users\\user\\anaconda3\\lib\\site-packages (from posthog>=2.4.0->chromadb) (1.16.0)\n",
            "Collecting monotonic>=1.5 (from posthog>=2.4.0->chromadb)\n",
            "  Using cached monotonic-1.6-py2.py3-none-any.whl (8.2 kB)\n",
            "Collecting backoff>=1.10.0 (from posthog>=2.4.0->chromadb)\n",
            "  Using cached backoff-2.2.1-py3-none-any.whl (15 kB)\n",
            "Requirement already satisfied: python-dateutil>2.1 in c:\\users\\user\\anaconda3\\lib\\site-packages (from posthog>=2.4.0->chromadb) (2.8.2)\n",
            "Requirement already satisfied: certifi in c:\\users\\user\\anaconda3\\lib\\site-packages (from pulsar-client>=3.1.0->chromadb) (2023.7.22)\n",
            "Requirement already satisfied: charset-normalizer<4,>=2 in c:\\users\\user\\anaconda3\\lib\\site-packages (from requests>=2.28->chromadb) (2.0.4)\n",
            "Requirement already satisfied: idna<4,>=2.5 in c:\\users\\user\\anaconda3\\lib\\site-packages (from requests>=2.28->chromadb) (3.4)\n",
            "Requirement already satisfied: urllib3<1.27,>=1.21.1 in c:\\users\\user\\anaconda3\\lib\\site-packages (from requests>=2.28->chromadb) (1.26.16)\n",
            "Requirement already satisfied: colorama in c:\\users\\user\\anaconda3\\lib\\site-packages (from tqdm>=4.65.0->chromadb) (0.4.6)\n",
            "Requirement already satisfied: click>=7.0 in c:\\users\\user\\anaconda3\\lib\\site-packages (from uvicorn[standard]>=0.18.3->chromadb) (8.0.4)\n",
            "Requirement already satisfied: h11>=0.8 in c:\\users\\user\\anaconda3\\lib\\site-packages (from uvicorn[standard]>=0.18.3->chromadb) (0.14.0)\n",
            "Collecting httptools>=0.5.0 (from uvicorn[standard]>=0.18.3->chromadb)\n",
            "  Obtaining dependency information for httptools>=0.5.0 from https://files.pythonhosted.org/packages/80/e6/158e8d56f6b4d29295cfa244f1e79a65d0987bb3941d36863e7f6e06e3b6/httptools-0.6.0-cp311-cp311-win_amd64.whl.metadata\n",
            "  Using cached httptools-0.6.0-cp311-cp311-win_amd64.whl.metadata (3.6 kB)\n",
            "Collecting python-dotenv>=0.13 (from uvicorn[standard]>=0.18.3->chromadb)\n",
            "  Using cached python_dotenv-1.0.0-py3-none-any.whl (19 kB)\n",
            "Requirement already satisfied: pyyaml>=5.1 in c:\\users\\user\\anaconda3\\lib\\site-packages (from uvicorn[standard]>=0.18.3->chromadb) (6.0)\n",
            "Collecting watchfiles>=0.13 (from uvicorn[standard]>=0.18.3->chromadb)\n",
            "  Obtaining dependency information for watchfiles>=0.13 from https://files.pythonhosted.org/packages/87/79/098b1b1fcb6de16149d23283a2ab5dadce6a06b864e7a182d231f57a1f9e/watchfiles-0.20.0-cp37-abi3-win_amd64.whl.metadata\n",
            "  Using cached watchfiles-0.20.0-cp37-abi3-win_amd64.whl.metadata (5.0 kB)\n",
            "Requirement already satisfied: websockets>=10.4 in c:\\users\\user\\anaconda3\\lib\\site-packages (from uvicorn[standard]>=0.18.3->chromadb) (11.0.3)\n",
            "Requirement already satisfied: anyio<5,>=3.4.0 in c:\\users\\user\\anaconda3\\lib\\site-packages (from starlette<0.28.0,>=0.27.0->fastapi<0.100.0,>=0.95.2->chromadb) (3.7.1)\n",
            "Collecting humanfriendly>=9.1 (from coloredlogs->onnxruntime>=1.14.1->chromadb)\n",
            "  Using cached humanfriendly-10.0-py2.py3-none-any.whl (86 kB)\n",
            "Requirement already satisfied: mpmath>=0.19 in c:\\users\\user\\anaconda3\\lib\\site-packages (from sympy->onnxruntime>=1.14.1->chromadb) (1.2.1)\n",
            "Requirement already satisfied: sniffio>=1.1 in c:\\users\\user\\anaconda3\\lib\\site-packages (from anyio<5,>=3.4.0->starlette<0.28.0,>=0.27.0->fastapi<0.100.0,>=0.95.2->chromadb) (1.2.0)\n",
            "Collecting pyreadline3 (from humanfriendly>=9.1->coloredlogs->onnxruntime>=1.14.1->chromadb)\n",
            "  Using cached pyreadline3-3.4.1-py3-none-any.whl (95 kB)\n",
            "Using cached chromadb-0.4.9-py3-none-any.whl (421 kB)\n",
            "Using cached fastapi-0.99.1-py3-none-any.whl (58 kB)\n",
            "Using cached onnxruntime-1.15.1-cp311-cp311-win_amd64.whl (6.7 MB)\n",
            "Using cached overrides-7.4.0-py3-none-any.whl (17 kB)\n",
            "Using cached posthog-3.0.2-py2.py3-none-any.whl (37 kB)\n",
            "Using cached pulsar_client-3.3.0-cp311-cp311-win_amd64.whl (3.4 MB)\n",
            "Using cached pydantic-1.10.12-cp311-cp311-win_amd64.whl (2.1 MB)\n",
            "Using cached httptools-0.6.0-cp311-cp311-win_amd64.whl (142 kB)\n",
            "Using cached watchfiles-0.20.0-cp37-abi3-win_amd64.whl (276 kB)\n",
            "Building wheels for collected packages: chroma-hnswlib\n",
            "  Building wheel for chroma-hnswlib (pyproject.toml): started\n",
            "  Building wheel for chroma-hnswlib (pyproject.toml): finished with status 'error'\n",
            "Failed to build chroma-hnswlib\n",
            "Note: you may need to restart the kernel to use updated packages.\n"
          ]
        },
        {
          "name": "stderr",
          "output_type": "stream",
          "text": [
            "  error: subprocess-exited-with-error\n",
            "  \n",
            "  × Building wheel for chroma-hnswlib (pyproject.toml) did not run successfully.\n",
            "  │ exit code: 1\n",
            "  ╰─> [12 lines of output]\n",
            "      running bdist_wheel\n",
            "      running build\n",
            "      running build_ext\n",
            "      building 'hnswlib' extension\n",
            "      creating build\n",
            "      creating build\\temp.win-amd64-cpython-311\n",
            "      creating build\\temp.win-amd64-cpython-311\\Release\n",
            "      creating build\\temp.win-amd64-cpython-311\\Release\\python_bindings\n",
            "      \"C:\\Program Files (x86)\\Microsoft Visual Studio\\2022\\BuildTools\\VC\\Tools\\MSVC\\14.37.32822\\bin\\HostX86\\x64\\cl.exe\" /c /nologo /O2 /W3 /GL /DNDEBUG /MD -IC:\\Users\\user\\AppData\\Local\\Temp\\pip-build-env-nbf6agcq\\overlay\\Lib\\site-packages\\pybind11\\include -IC:\\Users\\user\\AppData\\Local\\Temp\\pip-build-env-nbf6agcq\\overlay\\Lib\\site-packages\\numpy\\core\\include -I./hnswlib/ -Ic:\\Users\\user\\anaconda3\\include -Ic:\\Users\\user\\anaconda3\\Include \"-IC:\\Program Files (x86)\\Microsoft Visual Studio\\2022\\BuildTools\\VC\\Tools\\MSVC\\14.37.32822\\include\" \"-IC:\\Program Files (x86)\\Microsoft Visual Studio\\2022\\BuildTools\\VC\\Auxiliary\\VS\\include\" /EHsc /Tp./python_bindings/bindings.cpp /Fobuild\\temp.win-amd64-cpython-311\\Release\\./python_bindings/bindings.obj /EHsc /openmp /O2 /DVERSION_INFO=\\\\\\\"0.7.2\\\\\\\"\n",
            "      bindings.cpp\n",
            "      C:\\Program Files (x86)\\Microsoft Visual Studio\\2022\\BuildTools\\VC\\Tools\\MSVC\\14.37.32822\\include\\yvals.h(21): fatal error C1083: 포함 파일을 열 수 없습니다. 'crtdbg.h': No such file or directory\n",
            "      error: command 'C:\\\\Program Files (x86)\\\\Microsoft Visual Studio\\\\2022\\\\BuildTools\\\\VC\\\\Tools\\\\MSVC\\\\14.37.32822\\\\bin\\\\HostX86\\\\x64\\\\cl.exe' failed with exit code 2\n",
            "      [end of output]\n",
            "  \n",
            "  note: This error originates from a subprocess, and is likely not a problem with pip.\n",
            "  ERROR: Failed building wheel for chroma-hnswlib\n",
            "ERROR: Could not build wheels for chroma-hnswlib, which is required to install pyproject.toml-based projects\n"
          ]
        }
      ],
      "source": [
        "pip install chromadb"
      ]
    },
    {
      "cell_type": "code",
      "execution_count": 2,
      "metadata": {},
      "outputs": [
        {
          "name": "stdout",
          "output_type": "stream",
          "text": [
            "Collecting hnswlib\n",
            "  Downloading hnswlib-0.7.0.tar.gz (33 kB)\n",
            "  Installing build dependencies: started\n",
            "  Installing build dependencies: finished with status 'done'\n",
            "  Getting requirements to build wheel: started\n",
            "  Getting requirements to build wheel: finished with status 'done'\n",
            "  Preparing metadata (pyproject.toml): started\n",
            "  Preparing metadata (pyproject.toml): finished with status 'done'\n",
            "Requirement already satisfied: numpy in c:\\users\\user\\anaconda3\\lib\\site-packages (from hnswlib) (1.24.3)\n",
            "Building wheels for collected packages: hnswlib\n",
            "  Building wheel for hnswlib (pyproject.toml): started\n",
            "  Building wheel for hnswlib (pyproject.toml): finished with status 'error'\n",
            "Failed to build hnswlib\n",
            "Note: you may need to restart the kernel to use updated packages.\n"
          ]
        },
        {
          "name": "stderr",
          "output_type": "stream",
          "text": [
            "  error: subprocess-exited-with-error\n",
            "  \n",
            "  × Building wheel for hnswlib (pyproject.toml) did not run successfully.\n",
            "  │ exit code: 1\n",
            "  ╰─> [12 lines of output]\n",
            "      running bdist_wheel\n",
            "      running build\n",
            "      running build_ext\n",
            "      building 'hnswlib' extension\n",
            "      creating build\n",
            "      creating build\\temp.win-amd64-cpython-311\n",
            "      creating build\\temp.win-amd64-cpython-311\\Release\n",
            "      creating build\\temp.win-amd64-cpython-311\\Release\\python_bindings\n",
            "      \"C:\\Program Files (x86)\\Microsoft Visual Studio\\2022\\BuildTools\\VC\\Tools\\MSVC\\14.37.32822\\bin\\HostX86\\x64\\cl.exe\" /c /nologo /O2 /W3 /GL /DNDEBUG /MD -IC:\\Users\\user\\AppData\\Local\\Temp\\pip-build-env-meldbghh\\overlay\\Lib\\site-packages\\pybind11\\include -IC:\\Users\\user\\AppData\\Local\\Temp\\pip-build-env-meldbghh\\overlay\\Lib\\site-packages\\numpy\\core\\include -I./hnswlib/ -Ic:\\Users\\user\\anaconda3\\include -Ic:\\Users\\user\\anaconda3\\Include \"-IC:\\Program Files (x86)\\Microsoft Visual Studio\\2022\\BuildTools\\VC\\Tools\\MSVC\\14.37.32822\\include\" \"-IC:\\Program Files (x86)\\Microsoft Visual Studio\\2022\\BuildTools\\VC\\Auxiliary\\VS\\include\" /EHsc /Tp./python_bindings/bindings.cpp /Fobuild\\temp.win-amd64-cpython-311\\Release\\./python_bindings/bindings.obj /EHsc /openmp /O2 /DVERSION_INFO=\\\\\\\"0.7.0\\\\\\\"\n",
            "      bindings.cpp\n",
            "      C:\\Program Files (x86)\\Microsoft Visual Studio\\2022\\BuildTools\\VC\\Tools\\MSVC\\14.37.32822\\include\\yvals.h(21): fatal error C1083: 포함 파일을 열 수 없습니다. 'crtdbg.h': No such file or directory\n",
            "      error: command 'C:\\\\Program Files (x86)\\\\Microsoft Visual Studio\\\\2022\\\\BuildTools\\\\VC\\\\Tools\\\\MSVC\\\\14.37.32822\\\\bin\\\\HostX86\\\\x64\\\\cl.exe' failed with exit code 2\n",
            "      [end of output]\n",
            "  \n",
            "  note: This error originates from a subprocess, and is likely not a problem with pip.\n",
            "  ERROR: Failed building wheel for hnswlib\n",
            "ERROR: Could not build wheels for hnswlib, which is required to install pyproject.toml-based projects\n"
          ]
        }
      ],
      "source": [
        "pip install hnswlib"
      ]
    },
    {
      "cell_type": "code",
      "execution_count": null,
      "metadata": {},
      "outputs": [],
      "source": []
    }
  ],
  "metadata": {
    "accelerator": "GPU",
    "colab": {
      "gpuType": "T4",
      "machine_shape": "hm",
      "provenance": []
    },
    "kernelspec": {
      "display_name": "Python 3",
      "name": "python3"
    },
    "language_info": {
      "codemirror_mode": {
        "name": "ipython",
        "version": 3
      },
      "file_extension": ".py",
      "mimetype": "text/x-python",
      "name": "python",
      "nbconvert_exporter": "python",
      "pygments_lexer": "ipython3",
      "version": "3.11.3"
    }
  },
  "nbformat": 4,
  "nbformat_minor": 0
}
