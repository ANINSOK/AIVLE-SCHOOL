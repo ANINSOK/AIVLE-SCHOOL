{
  "cells": [
    {
      "cell_type": "markdown",
      "metadata": {
        "id": "9xdK-6AO1ULe"
      },
      "source": [
        "rss_정보검색\n",
        "\n",
        "https://etnews.com/rss/"
      ]
    },
    {
      "cell_type": "code",
      "execution_count": null,
      "metadata": {
        "colab": {
          "base_uri": "https://localhost:8080/"
        },
        "id": "QKTwFlhhQHfW",
        "outputId": "d1325a2a-597a-46db-e4f9-14c0d8246a7c"
      },
      "outputs": [
        {
          "name": "stdout",
          "output_type": "stream",
          "text": [
            "Collecting feedparser\n",
            "  Downloading feedparser-6.0.10-py3-none-any.whl (81 kB)\n",
            "\u001b[2K     \u001b[90m━━━━━━━━━━━━━━━━━━━━━━━━━━━━━━━━━━━━━━━━\u001b[0m \u001b[32m81.1/81.1 kB\u001b[0m \u001b[31m1.5 MB/s\u001b[0m eta \u001b[36m0:00:00\u001b[0m\n",
            "\u001b[?25hCollecting sgmllib3k (from feedparser)\n",
            "  Downloading sgmllib3k-1.0.0.tar.gz (5.8 kB)\n",
            "  Preparing metadata (setup.py) ... \u001b[?25l\u001b[?25hdone\n",
            "Building wheels for collected packages: sgmllib3k\n",
            "  Building wheel for sgmllib3k (setup.py) ... \u001b[?25l\u001b[?25hdone\n",
            "  Created wheel for sgmllib3k: filename=sgmllib3k-1.0.0-py3-none-any.whl size=6047 sha256=455027a3f3b8117eabe1d42778c3069abed79eecc6b710cde8d82eddb1737382\n",
            "  Stored in directory: /root/.cache/pip/wheels/f0/69/93/a47e9d621be168e9e33c7ce60524393c0b92ae83cf6c6e89c5\n",
            "Successfully built sgmllib3k\n",
            "Installing collected packages: sgmllib3k, feedparser\n",
            "Successfully installed feedparser-6.0.10 sgmllib3k-1.0.0\n"
          ]
        }
      ],
      "source": [
        "!pip install feedparser  # RSS에서 xml태그별 정보 추출(예)title, link, author...)"
      ]
    },
    {
      "cell_type": "code",
      "execution_count": null,
      "metadata": {
        "colab": {
          "base_uri": "https://localhost:8080/"
        },
        "id": "Ye9eXEHU1wRB",
        "outputId": "2521b74d-b89d-4dc8-939c-de1312de976d"
      },
      "outputs": [
        {
          "name": "stdout",
          "output_type": "stream",
          "text": [
            "Collecting newspaper3k\n",
            "  Downloading newspaper3k-0.2.8-py3-none-any.whl (211 kB)\n",
            "\u001b[2K     \u001b[90m━━━━━━━━━━━━━━━━━━━━━━━━━━━━━━━━━━━━━━━\u001b[0m \u001b[32m211.1/211.1 kB\u001b[0m \u001b[31m3.9 MB/s\u001b[0m eta \u001b[36m0:00:00\u001b[0m\n",
            "\u001b[?25hRequirement already satisfied: beautifulsoup4>=4.4.1 in /usr/local/lib/python3.10/dist-packages (from newspaper3k) (4.11.2)\n",
            "Requirement already satisfied: Pillow>=3.3.0 in /usr/local/lib/python3.10/dist-packages (from newspaper3k) (9.4.0)\n",
            "Requirement already satisfied: PyYAML>=3.11 in /usr/local/lib/python3.10/dist-packages (from newspaper3k) (6.0.1)\n",
            "Collecting cssselect>=0.9.2 (from newspaper3k)\n",
            "  Downloading cssselect-1.2.0-py2.py3-none-any.whl (18 kB)\n",
            "Requirement already satisfied: lxml>=3.6.0 in /usr/local/lib/python3.10/dist-packages (from newspaper3k) (4.9.3)\n",
            "Requirement already satisfied: nltk>=3.2.1 in /usr/local/lib/python3.10/dist-packages (from newspaper3k) (3.8.1)\n",
            "Requirement already satisfied: requests>=2.10.0 in /usr/local/lib/python3.10/dist-packages (from newspaper3k) (2.31.0)\n",
            "Requirement already satisfied: feedparser>=5.2.1 in /usr/local/lib/python3.10/dist-packages (from newspaper3k) (6.0.10)\n",
            "Collecting tldextract>=2.0.1 (from newspaper3k)\n",
            "  Downloading tldextract-3.6.0-py3-none-any.whl (97 kB)\n",
            "\u001b[2K     \u001b[90m━━━━━━━━━━━━━━━━━━━━━━━━━━━━━━━━━━━━━━━━\u001b[0m \u001b[32m97.4/97.4 kB\u001b[0m \u001b[31m10.5 MB/s\u001b[0m eta \u001b[36m0:00:00\u001b[0m\n",
            "\u001b[?25hCollecting feedfinder2>=0.0.4 (from newspaper3k)\n",
            "  Downloading feedfinder2-0.0.4.tar.gz (3.3 kB)\n",
            "  Preparing metadata (setup.py) ... \u001b[?25l\u001b[?25hdone\n",
            "Collecting jieba3k>=0.35.1 (from newspaper3k)\n",
            "  Downloading jieba3k-0.35.1.zip (7.4 MB)\n",
            "\u001b[2K     \u001b[90m━━━━━━━━━━━━━━━━━━━━━━━━━━━━━━━━━━━━━━━━\u001b[0m \u001b[32m7.4/7.4 MB\u001b[0m \u001b[31m60.6 MB/s\u001b[0m eta \u001b[36m0:00:00\u001b[0m\n",
            "\u001b[?25h  Preparing metadata (setup.py) ... \u001b[?25l\u001b[?25hdone\n",
            "Requirement already satisfied: python-dateutil>=2.5.3 in /usr/local/lib/python3.10/dist-packages (from newspaper3k) (2.8.2)\n",
            "Collecting tinysegmenter==0.3 (from newspaper3k)\n",
            "  Downloading tinysegmenter-0.3.tar.gz (16 kB)\n",
            "  Preparing metadata (setup.py) ... \u001b[?25l\u001b[?25hdone\n",
            "Requirement already satisfied: soupsieve>1.2 in /usr/local/lib/python3.10/dist-packages (from beautifulsoup4>=4.4.1->newspaper3k) (2.5)\n",
            "Requirement already satisfied: six in /usr/local/lib/python3.10/dist-packages (from feedfinder2>=0.0.4->newspaper3k) (1.16.0)\n",
            "Requirement already satisfied: sgmllib3k in /usr/local/lib/python3.10/dist-packages (from feedparser>=5.2.1->newspaper3k) (1.0.0)\n",
            "Requirement already satisfied: click in /usr/local/lib/python3.10/dist-packages (from nltk>=3.2.1->newspaper3k) (8.1.7)\n",
            "Requirement already satisfied: joblib in /usr/local/lib/python3.10/dist-packages (from nltk>=3.2.1->newspaper3k) (1.3.2)\n",
            "Requirement already satisfied: regex>=2021.8.3 in /usr/local/lib/python3.10/dist-packages (from nltk>=3.2.1->newspaper3k) (2023.6.3)\n",
            "Requirement already satisfied: tqdm in /usr/local/lib/python3.10/dist-packages (from nltk>=3.2.1->newspaper3k) (4.66.1)\n",
            "Requirement already satisfied: charset-normalizer<4,>=2 in /usr/local/lib/python3.10/dist-packages (from requests>=2.10.0->newspaper3k) (3.2.0)\n",
            "Requirement already satisfied: idna<4,>=2.5 in /usr/local/lib/python3.10/dist-packages (from requests>=2.10.0->newspaper3k) (3.4)\n",
            "Requirement already satisfied: urllib3<3,>=1.21.1 in /usr/local/lib/python3.10/dist-packages (from requests>=2.10.0->newspaper3k) (2.0.4)\n",
            "Requirement already satisfied: certifi>=2017.4.17 in /usr/local/lib/python3.10/dist-packages (from requests>=2.10.0->newspaper3k) (2023.7.22)\n",
            "Collecting requests-file>=1.4 (from tldextract>=2.0.1->newspaper3k)\n",
            "  Downloading requests_file-1.5.1-py2.py3-none-any.whl (3.7 kB)\n",
            "Requirement already satisfied: filelock>=3.0.8 in /usr/local/lib/python3.10/dist-packages (from tldextract>=2.0.1->newspaper3k) (3.12.2)\n",
            "Building wheels for collected packages: tinysegmenter, feedfinder2, jieba3k\n",
            "  Building wheel for tinysegmenter (setup.py) ... \u001b[?25l\u001b[?25hdone\n",
            "  Created wheel for tinysegmenter: filename=tinysegmenter-0.3-py3-none-any.whl size=13541 sha256=3c0ad970d331a4fc1c7875185c132d07182a363f83ca8e46fc0fbafb0f27bbac\n",
            "  Stored in directory: /root/.cache/pip/wheels/c8/d6/6c/384f58df48c00b9a31d638005143b5b3ac62c3d25fb1447f23\n",
            "  Building wheel for feedfinder2 (setup.py) ... \u001b[?25l\u001b[?25hdone\n",
            "  Created wheel for feedfinder2: filename=feedfinder2-0.0.4-py3-none-any.whl size=3339 sha256=d7dea39dfc538707202092b693f13b7347ec504ee76f5dcc60b8f0f09024842e\n",
            "  Stored in directory: /root/.cache/pip/wheels/97/02/e7/a1ff1760e12bdbaab0ac824fae5c1bc933e41c4ccd6a8f8edb\n",
            "  Building wheel for jieba3k (setup.py) ... \u001b[?25l\u001b[?25hdone\n",
            "  Created wheel for jieba3k: filename=jieba3k-0.35.1-py3-none-any.whl size=7398380 sha256=b245def19716500b6d9e8fbd382d22a5112f75f67d860e8dd3f34007bb76c05f\n",
            "  Stored in directory: /root/.cache/pip/wheels/7a/c4/0c/12a9a314ecac499456c4c3b2fcc2f635a3b45a39dfbd240299\n",
            "Successfully built tinysegmenter feedfinder2 jieba3k\n",
            "Installing collected packages: tinysegmenter, jieba3k, cssselect, requests-file, feedfinder2, tldextract, newspaper3k\n",
            "Successfully installed cssselect-1.2.0 feedfinder2-0.0.4 jieba3k-0.35.1 newspaper3k-0.2.8 requests-file-1.5.1 tinysegmenter-0.3 tldextract-3.6.0\n"
          ]
        }
      ],
      "source": [
        "!pip install newspaper3k # 인터넷 신문기사 분석(아래 'Article()'를 사용하기 위함)"
      ]
    },
    {
      "cell_type": "code",
      "execution_count": null,
      "metadata": {
        "colab": {
          "base_uri": "https://localhost:8080/"
        },
        "id": "_xxLhCRt11yt",
        "outputId": "d54bb5a1-1bf6-4ed3-e788-ba2e905a4c86"
      },
      "outputs": [
        {
          "name": "stdout",
          "output_type": "stream",
          "text": [
            "Collecting konlpy\n",
            "  Downloading konlpy-0.6.0-py2.py3-none-any.whl (19.4 MB)\n",
            "\u001b[2K     \u001b[90m━━━━━━━━━━━━━━━━━━━━━━━━━━━━━━━━━━━━━━━━\u001b[0m \u001b[32m19.4/19.4 MB\u001b[0m \u001b[31m30.1 MB/s\u001b[0m eta \u001b[36m0:00:00\u001b[0m\n",
            "\u001b[?25hCollecting JPype1>=0.7.0 (from konlpy)\n",
            "  Downloading JPype1-1.4.1-cp310-cp310-manylinux_2_12_x86_64.manylinux2010_x86_64.whl (465 kB)\n",
            "\u001b[2K     \u001b[90m━━━━━━━━━━━━━━━━━━━━━━━━━━━━━━━━━━━━━━━\u001b[0m \u001b[32m465.3/465.3 kB\u001b[0m \u001b[31m4.8 MB/s\u001b[0m eta \u001b[36m0:00:00\u001b[0m\n",
            "\u001b[?25hRequirement already satisfied: lxml>=4.1.0 in /usr/local/lib/python3.10/dist-packages (from konlpy) (4.9.3)\n",
            "Requirement already satisfied: numpy>=1.6 in /usr/local/lib/python3.10/dist-packages (from konlpy) (1.23.5)\n",
            "Requirement already satisfied: packaging in /usr/local/lib/python3.10/dist-packages (from JPype1>=0.7.0->konlpy) (23.1)\n",
            "Installing collected packages: JPype1, konlpy\n",
            "Successfully installed JPype1-1.4.1 konlpy-0.6.0\n"
          ]
        }
      ],
      "source": [
        "!pip install konlpy # 한국어 형태소 분석기(주어진 문장에서 명사만 추출할 목적으로 사용)"
      ]
    },
    {
      "cell_type": "code",
      "execution_count": null,
      "metadata": {
        "id": "2E-MNsPW181P"
      },
      "outputs": [],
      "source": [
        "import feedparser\n",
        "from newspaper import Article # newspaper는 인터넷 뉴스기사들을 Article이라는 함수로 감싸 제목, 본문, 날짜, 태그 등 기사 속 내용들을 분류해 보여줄 수 있는 라이브러리\n",
        "from konlpy.tag import Okt\n",
        "from collections import Counter # 명사 추출후에 본문에  몇번 나오는지 확인(TF계산용)\n",
        "from operator import eq # 동일한 단어인지 여부를 판단, 동등한지 판단\n",
        "from bs4 import BeautifulSoup # 글에 존재할지 모르는 html tag삭제"
      ]
    },
    {
      "cell_type": "code",
      "execution_count": null,
      "metadata": {
        "id": "bXNF2FMZ4Lv6"
      },
      "outputs": [],
      "source": [
        "# [단계1] 모든 RSS파일(xml형식)을 돌아다니며 기사의 제목/link를 추출한다.\n",
        "# urls는 우리가 검색할 RSS의 목록을 list로 만든것\n",
        "urls = ['http://rss.etnews.com/Section901.xml',\n",
        "        'http://rss.etnews.com/Section902.xml',\n",
        "        'http://rss.etnews.com/Section903.xml',\n",
        "        'http://rss.etnews.com/Section904.xml']"
      ]
    },
    {
      "cell_type": "code",
      "execution_count": null,
      "metadata": {
        "id": "k9oJ33c041gU"
      },
      "outputs": [],
      "source": [
        "# 아래 함수는 RSS목록의 list안에 존재하는 모든 기사의 title, link를 list로 구성\n",
        "def crawl_rss(urls):\n",
        "    array_rss= [] # 함수 시작하는 시점에 빈 리스트를 만듦. 여기에 모든 기사를 채울 것임\n",
        "    titles_rss = set() # [중복기사 제거에 사용] 기사제목들의 집합을 구성(집합은 중복불허라는 특성을 사용할것)\n",
        "    for url in urls : # 4개의 RSS파일을 하나씩 방문(4번 돌것임, 901,902,903,904)\n",
        "        print('[Crawl RSS]', url) # 현재 어디에 있는지 출력\n",
        "        parse_rss = feedparser.parse(url) # 현재 url 파싱 후 결과를 parse_rss에 저장\n",
        "        for p in  parse_rss.entries: # parse_rss에 있는 모든 entries/기사를 검색\n",
        "            if p.title not in titles_rss: # [중복기사제거] 만약에 titles_rss에 동일한 제목이 없다면 추가\n",
        "                array_rss.append({'title':p.title, 'link':p.link}) # 기사에서 제목/link추출 후 리스트에 추가\n",
        "                titles_rss.add(p.title) # [중복기사 제거] 집합에 현재 기사제목이 없을 때만 추가\n",
        "            else:\n",
        "                print('Duplicated Title:', p.title) # [중복기사 제거] 중복되는 기사의 제목 출력\n",
        "    return array_rss"
      ]
    },
    {
      "cell_type": "markdown",
      "metadata": {
        "id": "1B9Tuykc8UwZ"
      },
      "source": [
        "description이 아니라 link를 불러오는 이유 : 전체 본문을 긁어오려면 link를 타고 들어가야 함."
      ]
    },
    {
      "cell_type": "code",
      "execution_count": null,
      "metadata": {
        "colab": {
          "base_uri": "https://localhost:8080/"
        },
        "id": "AynGqwZr9fvQ",
        "outputId": "af21a8d2-cf41-47fe-bc7e-7677784cd3eb"
      },
      "outputs": [
        {
          "name": "stdout",
          "output_type": "stream",
          "text": [
            "[Crawl RSS] http://rss.etnews.com/Section901.xml\n",
            "[Crawl RSS] http://rss.etnews.com/Section902.xml\n",
            "Duplicated Title: [에듀플러스]진학 정했니? 진로·학과 가이드 ⑦외식산업학과 “외식 프랜차이즈부터 대기업까지 취업 분야 다양…경희·세종 등 개설 대학 많아”\n",
            "Duplicated Title: [에듀플러스] 의약·자연계열 분석〈3〉전국 11개 치대 “정시 합격선 97.3, 의대 다음…서울·수도권 학생, 지방 치대 수시 어려워”\n",
            "Duplicated Title: 방발기금 일부는 문체부 사업에 투입...방송 미디어 발전 위해 쓰도록 바로 잡아야\n",
            "Duplicated Title: SK텔레콤, 2028년 AI 매출 6배로...'AI피라미드' 전략 발표\n",
            "Duplicated Title: '인도'서 미래 본 크래프톤, 현지 특화 신작·투자 확대 박차\n",
            "Duplicated Title: SK텔레콤, 'AI 피라미드 전략으로'\n",
            "Duplicated Title: 기자간담회서 발표하는 유영상 SKT 사장\n",
            "[Crawl RSS] http://rss.etnews.com/Section903.xml\n",
            "Duplicated Title: 포드, 中 CATL과 美 합작 배터리 공장 건립 중단\n",
            "[Crawl RSS] http://rss.etnews.com/Section904.xml\n",
            "Duplicated Title: [에듀플러스]진학 정했니? 진로·학과 가이드 ⑦외식산업학과 “외식 프랜차이즈부터 대기업까지 취업 분야 다양…경희·세종 등 개설 대학 많아”\n",
            "Duplicated Title: [에듀플러스] 의약·자연계열 분석〈3〉전국 11개 치대 “정시 합격선 97.3, 의대 다음…서울·수도권 학생, 지방 치대 수시 어려워”\n",
            "Duplicated Title: 방발기금 일부는 문체부 사업에 투입...방송 미디어 발전 위해 쓰도록 바로 잡아야\n",
            "Duplicated Title: SK텔레콤, 2028년 AI 매출 6배로...'AI피라미드' 전략 발표\n",
            "Duplicated Title: '인도'서 미래 본 크래프톤, 현지 특화 신작·투자 확대 박차\n",
            "Duplicated Title: 한전, 수소발전 입찰시장 발전량의 99.9% 부담\n",
            "Duplicated Title: 은행권, 생성형 AI로 업무 혁신 돌입.. 직원용 챗봇, 콜센터 적용 나서\n",
            "Duplicated Title: 네이버 크림, 바우처 제도·오프라인 쇼룸 강화…“기업가치 제고”\n",
            "Duplicated Title: 한국통신학회-코드잇, 디지털 ESG 사업 협력 MoU 체결\n",
            "Duplicated Title: 공공 시스템도 안전성 강화…데이터센터 화재 등 대비\n",
            "Duplicated Title: [에듀플러스]강원대, 강원특별자치도 청소년 SW사고력 경진대회 개최…거점 대학으로 지역 SW인재 양성 기여\n",
            "Duplicated Title: [에듀플러스]제2회 도쿄일렉트론코리아 드림업 반도체 캠프, 10월 21일·11월 25일 개최…무료 참가 신청은 이티에듀 홈페이지\n",
            "Duplicated Title: [에듀플러스]광운 디자인씽킹 부트캠프 개최 “중등교육 현장 문제 해결책 찾고 적용해봐요”\n",
            "Duplicated Title: [에듀플러스]국내 대표 초·중학생 진로 축제, 제8회 미래와소프트웨어 꿈찾기 캠프 '성료'…“AI로 나만의 웹툰 만들어요”\n",
            "Duplicated Title: 추석 귀성길 고속도로 정보, 네이버 앱서 간편하게 확인한다\n",
            "Duplicated Title: “AI 푸드테크 선도 역할”..풀무원GPT, 헬스케어부터 음성봇까지 확대\n",
            "Duplicated Title: 주일 美대사관, “中 수출 막힌 日 가리비 팔아줄게”\n",
            "Duplicated Title: 특허청, 국가전략기술 연구개발 효율화 'IP-R&D 지원' 본격 추진\n",
            "Duplicated Title: 고진 디플정위 위원장, 추석 연휴 대비 사이버 안전 현장 방문\n",
            "Duplicated Title: “한 발로 서서 쭈욱~”…테슬라, 요가하는 로봇 '옵티머스' 공개\n",
            "Duplicated Title: 케이뱅크, 최대 연 10% '모임통장' 새 모델 제시\n",
            "Duplicated Title: 알파스캔, '24B1XH2·27B2H2' 출시…“100㎐ 모니터 시대 연다”\n",
            "Duplicated Title: [ICT시사용어]디지털 공동번영사회\n",
            "Duplicated Title: [블록체인 칼럼]크립토윈터의 원인과 해동 전망\n",
            "Duplicated Title: 누리랩, 택배·지인 사칭한 '피싱·스미싱 URL' 자동 탐지 차단 서비스 등장\n",
            "Duplicated Title: MS·구글 등 세계적인 AI 기업·연구소 'AI 선도도시 광주' 주목…스타트업 지원·인력양성 '맞손'\n",
            "Duplicated Title: 포드, 中 CATL과 美 합작 배터리 공장 건립 중단\n",
            "Duplicated Title: 방혁준 쿤텍 대표 “5G 특화망 토털 서비스, 산업계 DX 뒷받침한다”\n",
            "Duplicated Title: 이재명 영장 심사에 새 원내대표 선출까지… 민주당, '운명의 날'\n",
            "Duplicated Title: 비운의 에티오피아 왕자...140년 만에 머리카락만 고국 품으로\n",
            "[{'title': '[에듀플러스]진학 정했니? 진로·학과 가이드 ⑦외식산업학과 “외식 프랜차이즈부터 대기업까지 취업 분야 다양…경희·세종 등 개설 대학 많아”', 'link': 'https://www.etnews.com/20230924000163'}, {'title': '[에듀플러스] 의약·자연계열 분석〈3〉전국 11개 치대 “정시 합격선 97.3, 의대 다음…서울·수도권 학생, 지방 치대 수시 어려워”', 'link': 'https://www.etnews.com/20230924000162'}, {'title': '방발기금 일부는 문체부 사업에 투입...방송 미디어 발전 위해 쓰도록 바로 잡아야', 'link': 'https://www.etnews.com/20230926000249'}, {'title': \"SK텔레콤, 2028년 AI 매출 6배로...'AI피라미드' 전략 발표\", 'link': 'https://www.etnews.com/20230926000246'}, {'title': \"'인도'서 미래 본 크래프톤, 현지 특화 신작·투자 확대 박차\", 'link': 'https://www.etnews.com/20230926000234'}, {'title': '한전, 수소발전 입찰시장 발전량의 99.9% 부담', 'link': 'https://www.etnews.com/20230926000212'}, {'title': '은행권, 생성형 AI로 업무 혁신 돌입.. 직원용 챗봇, 콜센터 적용 나서', 'link': 'https://www.etnews.com/20230926000198'}, {'title': '네이버 크림, 바우처 제도·오프라인 쇼룸 강화…“기업가치 제고”', 'link': 'https://www.etnews.com/20230926000194'}, {'title': '한국통신학회-코드잇, 디지털 ESG 사업 협력 MoU 체결', 'link': 'https://www.etnews.com/20230926000184'}, {'title': '공공 시스템도 안전성 강화…데이터센터 화재 등 대비', 'link': 'https://www.etnews.com/20230926000086'}, {'title': '[에듀플러스]강원대, 강원특별자치도 청소년 SW사고력 경진대회 개최…거점 대학으로 지역 SW인재 양성 기여', 'link': 'https://www.etnews.com/20230925000322'}, {'title': '[에듀플러스]제2회 도쿄일렉트론코리아 드림업 반도체 캠프, 10월 21일·11월 25일 개최…무료 참가 신청은 이티에듀 홈페이지', 'link': 'https://www.etnews.com/20230925000316'}, {'title': '[에듀플러스]광운 디자인씽킹 부트캠프 개최 “중등교육 현장 문제 해결책 찾고 적용해봐요”', 'link': 'https://www.etnews.com/20230925000312'}, {'title': \"[에듀플러스]국내 대표 초·중학생 진로 축제, 제8회 미래와소프트웨어 꿈찾기 캠프 '성료'…“AI로 나만의 웹툰 만들어요”\", 'link': 'https://www.etnews.com/20230925000310'}, {'title': '추석 귀성길 고속도로 정보, 네이버 앱서 간편하게 확인한다', 'link': 'https://www.etnews.com/20230926000141'}, {'title': '“AI 푸드테크 선도 역할”..풀무원GPT, 헬스케어부터 음성봇까지 확대', 'link': 'https://www.etnews.com/20230926000138'}, {'title': '주일 美대사관, “中 수출 막힌 日 가리비 팔아줄게”', 'link': 'https://www.etnews.com/20230926000127'}, {'title': \"특허청, 국가전략기술 연구개발 효율화 'IP-R&D 지원' 본격 추진\", 'link': 'https://www.etnews.com/20230926000102'}, {'title': '고진 디플정위 위원장, 추석 연휴 대비 사이버 안전 현장 방문', 'link': 'https://www.etnews.com/20230926000106'}, {'title': \"“한 발로 서서 쭈욱~”…테슬라, 요가하는 로봇 '옵티머스' 공개\", 'link': 'https://www.etnews.com/20230926000105'}, {'title': \"케이뱅크, 최대 연 10% '모임통장' 새 모델 제시\", 'link': 'https://www.etnews.com/20230926000093'}, {'title': \"알파스캔, '24B1XH2·27B2H2' 출시…“100㎐ 모니터 시대 연다”\", 'link': 'https://www.etnews.com/20230926000084'}, {'title': '[ICT시사용어]디지털 공동번영사회', 'link': 'https://www.etnews.com/20230926000071'}, {'title': '[블록체인 칼럼]크립토윈터의 원인과 해동 전망', 'link': 'https://www.etnews.com/20230926000063'}, {'title': \"누리랩, 택배·지인 사칭한 '피싱·스미싱 URL' 자동 탐지 차단 서비스 등장\", 'link': 'https://www.etnews.com/20230926000053'}, {'title': \"MS·구글 등 세계적인 AI 기업·연구소 'AI 선도도시 광주' 주목…스타트업 지원·인력양성 '맞손'\", 'link': 'https://www.etnews.com/20230926000008'}, {'title': '포드, 中 CATL과 美 합작 배터리 공장 건립 중단', 'link': 'https://www.etnews.com/20230926000006'}, {'title': '방혁준 쿤텍 대표 “5G 특화망 토털 서비스, 산업계 DX 뒷받침한다”', 'link': 'https://www.etnews.com/20230925000210'}, {'title': \"이재명 영장 심사에 새 원내대표 선출까지… 민주당, '운명의 날'\", 'link': 'https://www.etnews.com/20230925000330'}, {'title': '비운의 에티오피아 왕자...140년 만에 머리카락만 고국 품으로', 'link': 'https://www.etnews.com/20230925000296'}, {'title': \"현대제철, 'SMK2023'에서 지속가능한 친환경 철강사 비전 공개\", 'link': 'https://www.etnews.com/20230926000054'}, {'title': '폐배터리 화재 걱정하지 마세요…E-순환 거버넌스, 안전 시스템 개발', 'link': 'https://www.etnews.com/20230926000244'}, {'title': \"블랙아웃 재발 없다...'카카오 데이터센터 안산' 준공\", 'link': 'https://www.etnews.com/20230926000044'}, {'title': \"LG생활건강, 색조 화장품 강화...'힌스' 비바웨이브 인수\", 'link': 'https://www.etnews.com/20230926000248'}, {'title': 'LG유플러스 “추석 연휴 영화·드라마 무료로 즐기세요”', 'link': 'https://www.etnews.com/20230926000247'}, {'title': '“ENA 추석맞이 보고 싶었던 콘텐츠 한자리에”', 'link': 'https://www.etnews.com/20230926000245'}, {'title': 'IBK기업은행-신용보증기금, 수출기업 경쟁력 제고 위한 업무협약 체결', 'link': 'https://www.etnews.com/20230926000243'}, {'title': \"하이브IM, '별이되어라2' 퍼스트 글로벌 베타 테스트 참가자 모집\", 'link': 'https://www.etnews.com/20230926000242'}, {'title': \"케이블TV 공동 기획 '지역소멸을 막아라', 귀농·귀촌 다뤄\", 'link': 'https://www.etnews.com/20230926000241'}, {'title': \"웅진씽크빅, 앱 개발 공모전 성료…대상에 '도와줘요 수학해결사' 선정\", 'link': 'https://www.etnews.com/20230926000240'}, {'title': '필립스, 건양대병원에 디지털 병리 시스템 구축', 'link': 'https://www.etnews.com/20230926000239'}, {'title': \"KB국민은행 추석맞이 '전통시장 사랑나눔' 실시\", 'link': 'https://www.etnews.com/20230926000238'}, {'title': \"뤼이드, 토익스피킹 AI 모의고사 '산타 세이' 공식 출시\", 'link': 'https://www.etnews.com/20230926000237'}, {'title': \"아이스크림미디어, '에듀뱅크AI' GESS 에듀케이션 어워드 결선 진출\", 'link': 'https://www.etnews.com/20230926000236'}, {'title': 'DGB대구은행, 대한적십자사와 한가위 맞이 송편 나눔 행사 진행', 'link': 'https://www.etnews.com/20230926000235'}, {'title': 'KT스카이라이프, 추석맞이 인기영화 VOD 프로모션', 'link': 'https://www.etnews.com/20230926000233'}, {'title': \"HLB, 美 '캔서 문샷' 프로젝트 참여\", 'link': 'https://www.etnews.com/20230926000232'}, {'title': '추석연휴 T맵으로 안전하게 다녀오세요~', 'link': 'https://www.etnews.com/20230926000230'}, {'title': 'T맵으로 안전하게 고향 다녀오세요~', 'link': 'https://www.etnews.com/20230926000229'}, {'title': \"SK텔레콤, 'AI 피라미드 전략으로'\", 'link': 'https://www.etnews.com/20230926000228'}, {'title': 'AI 피라미드 전략 발표하는 유영상 사장', 'link': 'https://www.etnews.com/20230926000225'}, {'title': '셀트리온 합병 반대의사 접수…주가에 쏠린 눈', 'link': 'https://www.etnews.com/20230926000224'}, {'title': '기자간담회서 발표하는 유영상 SKT 사장', 'link': 'https://www.etnews.com/20230926000223'}, {'title': \"'안락사 美 흑곰'…뱃속에서 한 가득 나온 그것은\", 'link': 'https://www.etnews.com/20230925000231'}, {'title': '\"中서 현상 유지만 하라는 것…첨단 반도체 대규모 투자 어려워\"', 'link': 'https://www.etnews.com/20230924000040'}, {'title': '노트북도 접는다… LG, 내달 4일 첫 출시', 'link': 'https://www.etnews.com/20230925000090'}, {'title': \"정부, 원전 '초격차 기술' 개발한다…연내 예타 추진\", 'link': 'https://www.etnews.com/20230922000215'}, {'title': \"절대 강자 없는 '모빌리티 빅뱅', 車산업지도 바꾼다\", 'link': 'https://www.etnews.com/20230925000207'}, {'title': '현대모비스, 충주공장 배터리팩 라인 신설…총 생산 능력 2배로', 'link': 'https://www.etnews.com/20230922000198'}, {'title': '[단독]삼성생명, 보험사 최초 전자금융업 진출', 'link': 'https://www.etnews.com/20230922000216'}, {'title': \"신동빈, 장남에 유통도 맡기나…롯데 3세 경영수업 '착착'\", 'link': 'https://www.etnews.com/20230922000218'}, {'title': \"美, '반도체법' 가드레일 규정 최종 발표\", 'link': 'https://www.etnews.com/20230923000006'}, {'title': 'MS, 윈도우에 AI 탑재한다... 코파일럿 26일 출시', 'link': 'https://www.etnews.com/20230922000176'}, {'title': \"LG U+ 통합전산망 '유큐브' AI 시대 맞춰 전면 업데이트\", 'link': 'https://www.etnews.com/20230922000217'}, {'title': '“혁신 전초기지로 떠오른 한국”…글로벌 기업 71개사 혁신거점 설치', 'link': 'https://www.etnews.com/20230922000187'}, {'title': '“태양계 비밀 푼다”…24일 지구로 떨어지는 소행성 샘플', 'link': 'https://www.etnews.com/20230922000233'}, {'title': '정책자금 받게 해주겠다더니…대가 요구하는 브로커 활개', 'link': 'https://www.etnews.com/20230925000171'}, {'title': '에코프로머티리얼즈, 증권신고서 제출…11월 중순 상장 목표', 'link': 'https://www.etnews.com/20230925000313'}, {'title': '펨트론, 웨이퍼 표면 검사 장비 국산화', 'link': 'https://www.etnews.com/20230925000191'}, {'title': '“美 반도체 보조금 받으면 중국 내 생산능력 5%만 확장 가능”', 'link': 'https://www.etnews.com/20230922000447'}, {'title': \"“이물검사에 CT까지”···이차전지 검사 개척 '이노메트리'\", 'link': 'https://www.etnews.com/20230922000181'}, {'title': '알뜰폰 업계, 아이폰15 특수 노린다…자급제 수요 공략', 'link': 'https://www.etnews.com/20230925000181'}]\n"
          ]
        }
      ],
      "source": [
        "list_articles = crawl_rss(urls)\n",
        "print(list_articles)"
      ]
    },
    {
      "cell_type": "code",
      "execution_count": null,
      "metadata": {
        "id": "KPfsxmAz9nbe"
      },
      "outputs": [],
      "source": [
        "#[단계 2] list에 존재하는 모든 링크를 돌아다니며 본문 text를 추출\n",
        "# 아래 함수는 하나의 url을 입력받아서 링크를 타고 들어가 그 안에 title과 text를 추출한다.\n",
        "# 디폴트로 한글로 지정한다.\n",
        "def crawl_article(url, language = 'ko'):\n",
        "    print('[Crawl Article]', url) # 현재 title과 text를 추출할 url을 프린트\n",
        "    a = Article(url, language = language) # Article을 사용하여 그 URL입력하고, 언어옵션지정, a에 저장, Article 클래스는 뉴스기사를 제목, 본문, 날짜, 태그 등의 요소들로 분해시켜줌.\n",
        "    a.download() # a에 해당하는 url기사 다운로드\n",
        "    a.parse() # a에 해당하는 url기사 분석, xml tag별로 내용을 분류하는 작업\n",
        "    return a.title, preprocessing(a.text) # a에 해당하는 title과 본문(불용어 처리) 출력, 예를 들어 이미지가 있다면 이미지 태그가 존재할 것이다. 그러면 이미지 태그를 제거하는 것. 결과는 preprocessing 사용안한것과 같음.\n",
        "\n",
        "def preprocessing(text):\n",
        "    text_article = BeautifulSoup(text, 'html5lib').get_text() # html 태그 제거, 깔끔하게 정리된 테스트 얻을 수 있음. 벡터화시에는 필수적인 과정. 그러나 konlpy로 명사추출시에는 불필요한 과\n",
        "    return text_article"
      ]
    },
    {
      "cell_type": "markdown",
      "metadata": {
        "id": "GQgDGcVSeddX"
      },
      "source": [
        "불용어제거가 의미있는 언어는 영어이다."
      ]
    },
    {
      "cell_type": "code",
      "execution_count": null,
      "metadata": {
        "colab": {
          "base_uri": "https://localhost:8080/"
        },
        "id": "6kODkBkxBYad",
        "outputId": "a8546e65-5bd7-4aec-d4de-dfc0f837a5a5"
      },
      "outputs": [
        {
          "name": "stdout",
          "output_type": "stream",
          "text": [
            "[Crawl Article] https://www.etnews.com/20230924000163\n",
            "[Crawl Article] https://www.etnews.com/20230924000162\n",
            "[Crawl Article] https://www.etnews.com/20230926000249\n",
            "[Crawl Article] https://www.etnews.com/20230926000246\n",
            "[Crawl Article] https://www.etnews.com/20230926000234\n",
            "[Crawl Article] https://www.etnews.com/20230926000212\n",
            "[Crawl Article] https://www.etnews.com/20230926000198\n",
            "[Crawl Article] https://www.etnews.com/20230926000194\n",
            "[Crawl Article] https://www.etnews.com/20230926000184\n",
            "[Crawl Article] https://www.etnews.com/20230926000086\n",
            "[Crawl Article] https://www.etnews.com/20230925000322\n",
            "[Crawl Article] https://www.etnews.com/20230925000316\n",
            "[Crawl Article] https://www.etnews.com/20230925000312\n",
            "[Crawl Article] https://www.etnews.com/20230925000310\n",
            "[Crawl Article] https://www.etnews.com/20230926000141\n",
            "[Crawl Article] https://www.etnews.com/20230926000138\n",
            "[Crawl Article] https://www.etnews.com/20230926000127\n",
            "[Crawl Article] https://www.etnews.com/20230926000102\n",
            "[Crawl Article] https://www.etnews.com/20230926000106\n",
            "[Crawl Article] https://www.etnews.com/20230926000105\n",
            "[Crawl Article] https://www.etnews.com/20230926000093\n",
            "[Crawl Article] https://www.etnews.com/20230926000084\n",
            "[Crawl Article] https://www.etnews.com/20230926000071\n",
            "[Crawl Article] https://www.etnews.com/20230926000063\n",
            "[Crawl Article] https://www.etnews.com/20230926000053\n",
            "[Crawl Article] https://www.etnews.com/20230926000008\n",
            "[Crawl Article] https://www.etnews.com/20230926000006\n",
            "[Crawl Article] https://www.etnews.com/20230925000210\n",
            "[Crawl Article] https://www.etnews.com/20230925000330\n",
            "[Crawl Article] https://www.etnews.com/20230925000296\n",
            "[Crawl Article] https://www.etnews.com/20230926000054\n",
            "[Crawl Article] https://www.etnews.com/20230926000244\n",
            "[Crawl Article] https://www.etnews.com/20230926000044\n",
            "[Crawl Article] https://www.etnews.com/20230926000248\n",
            "[Crawl Article] https://www.etnews.com/20230926000247\n",
            "[Crawl Article] https://www.etnews.com/20230926000245\n",
            "[Crawl Article] https://www.etnews.com/20230926000243\n",
            "[Crawl Article] https://www.etnews.com/20230926000242\n",
            "[Crawl Article] https://www.etnews.com/20230926000241\n",
            "[Crawl Article] https://www.etnews.com/20230926000240\n",
            "[Crawl Article] https://www.etnews.com/20230926000239\n",
            "[Crawl Article] https://www.etnews.com/20230926000238\n",
            "[Crawl Article] https://www.etnews.com/20230926000237\n",
            "[Crawl Article] https://www.etnews.com/20230926000236\n",
            "[Crawl Article] https://www.etnews.com/20230926000235\n",
            "[Crawl Article] https://www.etnews.com/20230926000233\n",
            "[Crawl Article] https://www.etnews.com/20230926000232\n",
            "[Crawl Article] https://www.etnews.com/20230926000230\n",
            "[Crawl Article] https://www.etnews.com/20230926000229\n",
            "[Crawl Article] https://www.etnews.com/20230926000228\n",
            "[Crawl Article] https://www.etnews.com/20230926000225\n",
            "[Crawl Article] https://www.etnews.com/20230926000224\n",
            "[Crawl Article] https://www.etnews.com/20230926000223\n",
            "[Crawl Article] https://www.etnews.com/20230925000231\n",
            "[Crawl Article] https://www.etnews.com/20230924000040\n",
            "[Crawl Article] https://www.etnews.com/20230925000090\n",
            "[Crawl Article] https://www.etnews.com/20230922000215\n",
            "[Crawl Article] https://www.etnews.com/20230925000207\n",
            "[Crawl Article] https://www.etnews.com/20230922000198\n",
            "[Crawl Article] https://www.etnews.com/20230922000216\n",
            "[Crawl Article] https://www.etnews.com/20230922000218\n",
            "[Crawl Article] https://www.etnews.com/20230923000006\n",
            "[Crawl Article] https://www.etnews.com/20230922000176\n",
            "[Crawl Article] https://www.etnews.com/20230922000217\n",
            "[Crawl Article] https://www.etnews.com/20230922000187\n",
            "[Crawl Article] https://www.etnews.com/20230922000233\n",
            "[Crawl Article] https://www.etnews.com/20230925000171\n",
            "[Crawl Article] https://www.etnews.com/20230925000313\n",
            "[Crawl Article] https://www.etnews.com/20230925000191\n",
            "[Crawl Article] https://www.etnews.com/20230922000447\n",
            "[Crawl Article] https://www.etnews.com/20230922000181\n",
            "[Crawl Article] https://www.etnews.com/20230925000181\n"
          ]
        }
      ],
      "source": [
        "for article  in list_articles : # list에 있는 모든 기사를 하나씩 방문\n",
        "    _, text = crawl_article(article['link']) # 그 기사의 link를 crawl_article함수에 넣어 본문 추출\n",
        "    article['text'] = text #추출된 본문을 list_articles에 'text'라는 속성을 새로 만들어 저장, list_article이 이중 딕셔너리이기 때문에 article또한 딕셔너리이고 article은 기사 하나인 것이다.\n",
        "    # text를 기사 각각에 넣어주기 위해서는 for문에 돌고 있을 때, 즉 하나의 기사에 해당하는 article이 선택되었을 때 article['text']에 넣어주어야 한다."
      ]
    },
    {
      "cell_type": "code",
      "execution_count": null,
      "metadata": {
        "colab": {
          "base_uri": "https://localhost:8080/"
        },
        "id": "mOG5L1wTEgmY",
        "outputId": "e96c9f49-db82-42f3-b8d1-37c2e089f85c"
      },
      "outputs": [
        {
          "name": "stdout",
          "output_type": "stream",
          "text": [
            "{'title': '[에듀플러스]광운 디자인씽킹 부트캠프 개최 “중등교육 현장 문제 해결책 찾고 적용해봐요”', 'link': 'https://www.etnews.com/20230925000312', 'text': \"광운중·광운인공지능고 주최, 민·관·학 교육 관계자 모여\\n\\n국내 민·관·학 교육 관계자가 모여 중등교육 현장에 직면한 문제를 정의하고 창의적으로 해결하기 위한 자리가 마련됐다.\\n\\n\\n\\n광운중과 광운인공지능고는 그린 스마트 미래학교 사업 준비를 위해 광운대 80주년기념관에서 '광운 디자인씽킹 부트캠프'를 25일 개최했다.\\n\\n\\n\\n광운 디자인씽킹 부트캠프는 학교 운영 관계자 대상 프로그램으로, 광운학원 산하 중등 교육기관 교사·직원, 학생,학부모가 참석해 학교 공간 사용 문제에 대한 토론과 아이디어 제시를 통해 해결방안을 모색했다. 참석자들은 최종적으로 모인 아이디어를 정리해 광운산하 중등교육 기관 공간 사용 및 배치에 관한 해결책을 적용시킬 수 있는 가능성을 공유했다.\\n\\n이번 행사에는 디자인씽킹 전문가 크리스토퍼 한 파이디아랩 대표, 김상연 광운대 미디어커뮤니케이션 학부장이 디자인씽킹에 대한 교육 및 단계별 실습을 진행했다. 서울시교육청 미래학교추진단 장학사, 성북강북교육지원청 학생배치담당 주무관, 성북구청 교육지원팀장, 은평구청 학교지원팀 주무관 등이 참석했다.\\n\\n\\n\\n조선영 학교법인 광운학원 이사장은 “학교 공간의 사용자인 학생과 교사 경험을 중심으로 문제를 정의하고 이에 대한 혁신적인 해결책을 마련하기 위해 기획했다”며 “이번 캠프를 통해 그린 스마트 미래학교 사업은 물론 앞으로 학교 운영의 전반에 걸쳐 사용자 중심의 디자인 접근방법으로 풀어나가는 계기가 되기를 기대한다”고 말했다.\\n\\n\\n\\n이와 함께 조희연 교육감은 사전 축사를 통해 “디자인씽킹 부트캠프를 통해 중등교육 현장에 계신 교육관련자가 직접적으로 다양하고 창의적인 문제해결 방법을 도출할 것이라 생각한다”면서 “최고 교육기관을 만들기 위해 광운학원에서 최선의 노력을 기울여달라”고 전했다.\\n\\n\\n\\n마송은 기자 running@etnews.com\", 'keywords': [{'keyword': '광운', 'count': 10}, {'keyword': '학교', 'count': 8}, {'keyword': '교육', 'count': 7}, {'keyword': '디자인', 'count': 6}, {'keyword': '킹', 'count': 5}, {'keyword': '해결', 'count': 4}, {'keyword': '통해', 'count': 4}, {'keyword': '관', 'count': 3}, {'keyword': '관계자', 'count': 3}, {'keyword': '중등교육', 'count': 3}]}\n"
          ]
        }
      ],
      "source": [
        "print(list_articles[12])"
      ]
    },
    {
      "cell_type": "code",
      "execution_count": null,
      "metadata": {
        "id": "oV9CSxd1EpH0"
      },
      "outputs": [],
      "source": [
        "# [단계 3] 모든 본문 text에서 명사(키워드, 빈도수) 추출\n",
        "def get_keywords(text, nKeywords = 10): # 키워드 추출함수, 디폴트로 10개 지정\n",
        "    spliter = Okt() # konlpy에 의해서 문장을 형태소별로 쪼개는 기능을 위해 spliter생성\n",
        "    nouns = spliter.nouns(text) # 형태소중 명사만 뽑아서 nouns변수에 넣어줌. spliter에 의해서 nouns함수를 불러 text를 넣으면 그 text의 명사만 추출\n",
        "    count = Counter(nouns) # 추출된 명사들의 출현빈도 추출\n",
        "    list_keywords = [] # 비어있는 키워드 리스트를 먼저 만든 후에...\n",
        "    for n, c in count.most_common(nKeywords): # 가장 출현빈도 높은 명사부터 순차적으로 10번 출력\n",
        "        item = {'keyword': n, 'count': c}   # 리스트에 저장은 {'keyword', 'count'}형식으로 저장됨.\n",
        "        list_keywords.append(item)      # 이런 저장된 포맷으로 이를 list_keywords에 붙여나감\n",
        "    return list_keywords"
      ]
    },
    {
      "cell_type": "code",
      "execution_count": null,
      "metadata": {
        "id": "JQ8z3Ra8N3MG"
      },
      "outputs": [],
      "source": [
        "for article in list_articles : # 모든 기사를 돌아다니면 text에서 명사추출, 키워드, 빈도추출\n",
        "    keywords = get_keywords(article['text']) # 문장이 짧아 키워드가 10개가 안되면 그냥 있는 것만 추출, get_keywords 함수로 키원드/빈도추출\n",
        "    article['keywords'] = keywords # 추출된 키워드/빈도를 list_articles 의 'keywords'로 저장"
      ]
    },
    {
      "cell_type": "code",
      "execution_count": null,
      "metadata": {
        "colab": {
          "base_uri": "https://localhost:8080/"
        },
        "id": "DHzgoYjiTIEp",
        "outputId": "38fcb1e1-71e7-45b1-820f-ca6c25d34e2b"
      },
      "outputs": [
        {
          "name": "stdout",
          "output_type": "stream",
          "text": [
            "{'title': '[에듀플러스]진학 정했니? 진로·학과 가이드 ⑦외식산업학과 “외식 프랜차이즈부터 대기업까지 취업 분야 다양…경희·세종 등 개설 대학 많아”', 'link': 'https://www.etnews.com/20230924000163', 'text': '에듀플러스와 진학사가 학과로 보는 진로·진학 가이드 공동기획 시리즈를 격주로 총 10회 연재한다. 시리즈 일곱 번째 순서는 외식산업학과다. 소규모 외식 업체부터 대기업에 이르기까지 전문 외식 경영인을 배출한다. 기초·심화 이론 및 실습 등 체계적 교육 과정으로 경영·실무 능력을 갖춘 글로벌 인재를 육성한다.\\n\\n\\n\\n기초과목은 외식산업론, 외식조리 체계론, 서비스 실무영어, 레스토랑 경영론, 외식조리의 이해, 식품위생학, 외식서비스 마케팅 등이 있다. 심화과목은 외식상품 기획, 음식문화 체험, 외식메뉴 개발기법, 글로벌 한국조리, 서비스 매너와 이미지, 서양조리, 외식 소비자행동론, 외식 원가관리, 이태리 메뉴실습, 커피학, 조주음료 및 실습, 제빵실습, 와인학, 제과 및 디저트 실습 등이 있다.\\n\\n외식 업계에서 종사하고자 하는 학생은 음식과 경영 전반에 대한 흥미와 관심이 필요하다. 교과 과정 중 외식산업학과와 관련 깊은 경제, 사회, 과학(화학·생명과학)에 관심을 갖는 것이 좋다.\\n\\n\\n\\n전공 관련 요리 대회 참석 및 수상, 외식업체 탐방 및 전문 경영인 인터뷰는 물론, 수업에 적극 참여해 전공 적합성, 문제해결 능력, 학업 역량 등이 학생부 교과 세부능력 및 특기사항에 기록되면 진학에 유리하다. 음식 및 경영 관련 동아리 활동, 외식 산업 관련 독서 활동을 바탕으로 전공 지식을 확장하는 것을 추천한다.\\n\\n경희대·숙명여대·세종대 등 학과 개설…호텔·외식 프랜차이드 등 취업\\n\\n외식산업학과 관련 개설 대학은 가톨릭관동대 조리외식경영학과, 경북대 식품외식산업학과, 경동대 외식산업학과, 경성대 외식서비스경영학전공, 경희대 외식경영학과, 계명문화대 외식사업전공, 동의대 외식서비스경영학전공, 배재대 외식경영학과, 숙명여대 르꼬르동블루외식경영학과, 세명대 외식경영학과, 세종대 호텔외식관광프랜차이즈경영학과, 영남대 외식서비스학부 등이 있다.\\n\\n\\n\\n외식산업학과 졸업생은 기업체, 정부, 교육기관, 연구기관 등으로 진출한다. 기업체는 호텔 및 외식 업체 식음료 관련 부서, 외식 프랜차이즈 컨설팅 회사, 외식 정보 언론 업체, 외식 사업체, 외식 유통업체 등이 있다. 정부 및 지방자치단체·공공기관의 식품·위생 부서, 한국식품안전관리인증원, 한식진흥원, 국가식품클러스터 등도 취업 분야다. 레스토랑 컨설턴트, 제과사 및 제빵사, 조리사 및 주방장, 바리스타, 푸드스타일리스트, 음식평론가, 소믈리에 등으로 활동한다.\\n\\n우연철 진학사 입시전략연구소장 hades94@jinhak.com\\n\\n마송은 기자 running@etnews.com', 'keywords': [{'keyword': '외식', 'count': 28}, {'keyword': '및', 'count': 11}, {'keyword': '등', 'count': 11}, {'keyword': '학과', 'count': 8}, {'keyword': '경영학', 'count': 8}, {'keyword': '외식산업', 'count': 7}, {'keyword': '서비스', 'count': 6}, {'keyword': '관련', 'count': 6}, {'keyword': '전공', 'count': 6}, {'keyword': '업체', 'count': 5}]}\n"
          ]
        }
      ],
      "source": [
        "print(list_articles[0]) # 첫번째 기사출력(title, link, text, 키워드/빈도쌍 최대 10)"
      ]
    },
    {
      "cell_type": "code",
      "execution_count": null,
      "metadata": {
        "colab": {
          "base_uri": "https://localhost:8080/"
        },
        "id": "rxaV_ZdkTL6D",
        "outputId": "5d5342c6-1882-4864-bea9-0f7ec608bb87"
      },
      "outputs": [
        {
          "name": "stdout",
          "output_type": "stream",
          "text": [
            "반도체\n",
            "[TF] 10 [Title] [에듀플러스]제2회 도쿄일렉트론코리아 드림업 반도체 캠프, 10월 21일·11월 25일 개최…무료 참가 신청은 이티에듀 홈페이지 [URL] https://www.etnews.com/20230925000316\n",
            "[TF] 25 [Title] \"中서 현상 유지만 하라는 것…첨단 반도체 대규모 투자 어려워\" [URL] https://www.etnews.com/20230924000040\n",
            "[TF] 8 [Title] 美, '반도체법' 가드레일 규정 최종 발표 [URL] https://www.etnews.com/20230923000006\n",
            "[TF] 6 [Title] 펨트론, 웨이퍼 표면 검사 장비 국산화 [URL] https://www.etnews.com/20230925000191\n",
            "[TF] 10 [Title] “美 반도체 보조금 받으면 중국 내 생산능력 5%만 확장 가능” [URL] https://www.etnews.com/20230922000447\n"
          ]
        }
      ],
      "source": [
        "# [단계 4] 검색어를 입력받아서 그 검색어를 가지고 있는 기사를 출력\n",
        "query = input()\n",
        "\n",
        "def search_articles(query, list_keywords): # 쿼리가 키워드리스트에 있으면 회수를 출력(없으면 0 )\n",
        "    nWords =0 # 아래의 if문에 걸리지 않으면(즉 쿼리가 키워드에 없으면) 0을 출력하기 위함.\n",
        "    for kw in list_keywords : # 키워드 리스트 검색\n",
        "        if eq(query, kw['keyword']): # 쿼리와 동일한 키워드가 존재한다면\n",
        "            nWords =  kw['count'] # 그러면 그 키워드에 해당하는 count가 nWords값이 됨.\n",
        "    return nWords # 결과적으로 쿼리의 출현 횟수를 출력\n",
        "\n",
        "for article in list_articles : # 모든 기사를 돌아다니며 입력받은 쿼리가 몇 번 나오나 검색\n",
        "    nQuery = search_articles(query, article['keywords']) # search_articles 함수로 빈도수 추출\n",
        "    if nQuery !=0: # 쿼리가 키워드에 존재하지 않는 경우는 출력하지 않음\n",
        "        print('[TF]', nQuery, '[Title]', article['title'], '[URL]', article['link'])"
      ]
    },
    {
      "cell_type": "code",
      "execution_count": null,
      "metadata": {
        "id": "_LdNqihoWwYC"
      },
      "outputs": [],
      "source": []
    }
  ],
  "metadata": {
    "colab": {
      "provenance": []
    },
    "kernelspec": {
      "display_name": "Python 3",
      "name": "python3"
    },
    "language_info": {
      "name": "python"
    }
  },
  "nbformat": 4,
  "nbformat_minor": 0
}
